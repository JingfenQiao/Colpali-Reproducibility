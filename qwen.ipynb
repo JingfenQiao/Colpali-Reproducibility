{
 "cells": [
  {
   "cell_type": "code",
   "execution_count": 2,
   "metadata": {},
   "outputs": [],
   "source": [
    "from transformers.models.qwen2_vl.modeling_qwen2_vl import Qwen2VLModel, Qwen2VLPreTrainedModel, Qwen2VLForConditionalGeneration\n",
    "from transformers import AutoTokenizer, AutoProcessor"
   ]
  },
  {
   "cell_type": "code",
   "execution_count": 4,
   "metadata": {},
   "outputs": [],
   "source": [
    "min_pixels = 256 * 28 * 28\n",
    "max_pixels = 1280 * 28 * 28\n",
    "processor = AutoProcessor.from_pretrained(\"Qwen/Qwen2-VL-2B-Instruct\", min_pixels=min_pixels, max_pixels=max_pixels)\n"
   ]
  },
  {
   "cell_type": "code",
   "execution_count": null,
   "metadata": {},
   "outputs": [
    {
     "data": {
      "text/plain": [
       "torch.Size([1, 1269])"
      ]
     },
     "execution_count": 6,
     "metadata": {},
     "output_type": "execute_result"
    }
   ],
   "source": [
    "inputs['input_ids'].shape"
   ]
  },
  {
   "cell_type": "code",
   "execution_count": 11,
   "metadata": {},
   "outputs": [
    {
     "data": {
      "application/vnd.jupyter.widget-view+json": {
       "model_id": "d8d10794fedf49558d4467a50cb71c45",
       "version_major": 2,
       "version_minor": 0
      },
      "text/plain": [
       "config.json:   0%|          | 0.00/1.05k [00:00<?, ?B/s]"
      ]
     },
     "metadata": {},
     "output_type": "display_data"
    },
    {
     "data": {
      "application/vnd.jupyter.widget-view+json": {
       "model_id": "204b0aa92a404c3b9fc5538d1e499d88",
       "version_major": 2,
       "version_minor": 0
      },
      "text/plain": [
       "model.safetensors.index.json:   0%|          | 0.00/62.6k [00:00<?, ?B/s]"
      ]
     },
     "metadata": {},
     "output_type": "display_data"
    },
    {
     "data": {
      "application/vnd.jupyter.widget-view+json": {
       "model_id": "22d00cac44984ea4867f0a3675499399",
       "version_major": 2,
       "version_minor": 0
      },
      "text/plain": [
       "Downloading shards:   0%|          | 0/3 [00:00<?, ?it/s]"
      ]
     },
     "metadata": {},
     "output_type": "display_data"
    },
    {
     "data": {
      "application/vnd.jupyter.widget-view+json": {
       "model_id": "5f1e2d4c593044028502c36426bc81f4",
       "version_major": 2,
       "version_minor": 0
      },
      "text/plain": [
       "model-00001-of-00003.safetensors:   0%|          | 0.00/4.96G [00:00<?, ?B/s]"
      ]
     },
     "metadata": {},
     "output_type": "display_data"
    },
    {
     "data": {
      "application/vnd.jupyter.widget-view+json": {
       "model_id": "ba67b8f7990f4e5eb41f084e6449eb31",
       "version_major": 2,
       "version_minor": 0
      },
      "text/plain": [
       "model-00002-of-00003.safetensors:   0%|          | 0.00/5.00G [00:00<?, ?B/s]"
      ]
     },
     "metadata": {},
     "output_type": "display_data"
    },
    {
     "data": {
      "application/vnd.jupyter.widget-view+json": {
       "model_id": "a6efa37d101a49478787253c9253a32a",
       "version_major": 2,
       "version_minor": 0
      },
      "text/plain": [
       "model-00003-of-00003.safetensors:   0%|          | 0.00/1.74G [00:00<?, ?B/s]"
      ]
     },
     "metadata": {},
     "output_type": "display_data"
    },
    {
     "name": "stderr",
     "output_type": "stream",
     "text": [
      "`config.hidden_act` is ignored, you should use `config.hidden_activation` instead.\n",
      "Gemma's activation function will be set to `gelu_pytorch_tanh`. Please, use\n",
      "`config.hidden_activation` if you want to override this behaviour.\n",
      "See https://github.com/huggingface/transformers/pull/29402 for more details.\n"
     ]
    },
    {
     "data": {
      "application/vnd.jupyter.widget-view+json": {
       "model_id": "81d4fbf3476d41a9b84652dfa0f7764d",
       "version_major": 2,
       "version_minor": 0
      },
      "text/plain": [
       "Loading checkpoint shards:   0%|          | 0/3 [00:00<?, ?it/s]"
      ]
     },
     "metadata": {},
     "output_type": "display_data"
    },
    {
     "data": {
      "application/vnd.jupyter.widget-view+json": {
       "model_id": "f3df14ba298147d8b8c734471803fc64",
       "version_major": 2,
       "version_minor": 0
      },
      "text/plain": [
       "generation_config.json:   0%|          | 0.00/137 [00:00<?, ?B/s]"
      ]
     },
     "metadata": {},
     "output_type": "display_data"
    },
    {
     "data": {
      "text/plain": [
       "PaliGemmaForConditionalGeneration(\n",
       "  (vision_tower): SiglipVisionModel(\n",
       "    (vision_model): SiglipVisionTransformer(\n",
       "      (embeddings): SiglipVisionEmbeddings(\n",
       "        (patch_embedding): Conv2d(3, 1152, kernel_size=(14, 14), stride=(14, 14), padding=valid)\n",
       "        (position_embedding): Embedding(1024, 1152)\n",
       "      )\n",
       "      (encoder): SiglipEncoder(\n",
       "        (layers): ModuleList(\n",
       "          (0-26): 27 x SiglipEncoderLayer(\n",
       "            (self_attn): SiglipSdpaAttention(\n",
       "              (k_proj): Linear(in_features=1152, out_features=1152, bias=True)\n",
       "              (v_proj): Linear(in_features=1152, out_features=1152, bias=True)\n",
       "              (q_proj): Linear(in_features=1152, out_features=1152, bias=True)\n",
       "              (out_proj): Linear(in_features=1152, out_features=1152, bias=True)\n",
       "            )\n",
       "            (layer_norm1): LayerNorm((1152,), eps=1e-06, elementwise_affine=True)\n",
       "            (mlp): SiglipMLP(\n",
       "              (activation_fn): PytorchGELUTanh()\n",
       "              (fc1): Linear(in_features=1152, out_features=4304, bias=True)\n",
       "              (fc2): Linear(in_features=4304, out_features=1152, bias=True)\n",
       "            )\n",
       "            (layer_norm2): LayerNorm((1152,), eps=1e-06, elementwise_affine=True)\n",
       "          )\n",
       "        )\n",
       "      )\n",
       "      (post_layernorm): LayerNorm((1152,), eps=1e-06, elementwise_affine=True)\n",
       "    )\n",
       "  )\n",
       "  (multi_modal_projector): PaliGemmaMultiModalProjector(\n",
       "    (linear): Linear(in_features=1152, out_features=2048, bias=True)\n",
       "  )\n",
       "  (language_model): GemmaForCausalLM(\n",
       "    (model): GemmaModel(\n",
       "      (embed_tokens): Embedding(257216, 2048, padding_idx=0)\n",
       "      (layers): ModuleList(\n",
       "        (0-17): 18 x GemmaDecoderLayer(\n",
       "          (self_attn): GemmaSdpaAttention(\n",
       "            (q_proj): Linear(in_features=2048, out_features=2048, bias=False)\n",
       "            (k_proj): Linear(in_features=2048, out_features=256, bias=False)\n",
       "            (v_proj): Linear(in_features=2048, out_features=256, bias=False)\n",
       "            (o_proj): Linear(in_features=2048, out_features=2048, bias=False)\n",
       "            (rotary_emb): GemmaRotaryEmbedding()\n",
       "          )\n",
       "          (mlp): GemmaMLP(\n",
       "            (gate_proj): Linear(in_features=2048, out_features=16384, bias=False)\n",
       "            (up_proj): Linear(in_features=2048, out_features=16384, bias=False)\n",
       "            (down_proj): Linear(in_features=16384, out_features=2048, bias=False)\n",
       "            (act_fn): PytorchGELUTanh()\n",
       "          )\n",
       "          (input_layernorm): GemmaRMSNorm((2048,), eps=1e-06)\n",
       "          (post_attention_layernorm): GemmaRMSNorm((2048,), eps=1e-06)\n",
       "        )\n",
       "      )\n",
       "      (norm): GemmaRMSNorm((2048,), eps=1e-06)\n",
       "    )\n",
       "    (lm_head): Linear(in_features=2048, out_features=257216, bias=False)\n",
       "  )\n",
       ")"
      ]
     },
     "execution_count": 11,
     "metadata": {},
     "output_type": "execute_result"
    }
   ],
   "source": [
    "from transformers import PaliGemmaForConditionalGeneration\n",
    "pali_model = PaliGemmaForConditionalGeneration.from_pretrained(\"google/paligemma-3b-mix-448\")\n",
    "pali_model"
   ]
  },
  {
   "cell_type": "code",
   "execution_count": 1,
   "metadata": {},
   "outputs": [
    {
     "data": {
      "application/vnd.jupyter.widget-view+json": {
       "model_id": "24e810a5634b46589bfd29c58acbc4f3",
       "version_major": 2,
       "version_minor": 0
      },
      "text/plain": [
       "Loading checkpoint shards:   0%|          | 0/2 [00:00<?, ?it/s]"
      ]
     },
     "metadata": {},
     "output_type": "display_data"
    }
   ],
   "source": [
    "from transformers import Qwen2VLForConditionalGeneration    \n",
    "model = Qwen2VLForConditionalGeneration.from_pretrained(\"Qwen/Qwen2-VL-2B-Instruct\")\n",
    "# from colpali_engine.models.late_interaction.colqwen_architecture import ColQwen\n",
    "# model = ColQwen.from_pretrained(\"Qwen/Qwen2-VL-2B-Instruct\")"
   ]
  },
  {
   "cell_type": "code",
   "execution_count": 3,
   "metadata": {},
   "outputs": [
    {
     "data": {
      "text/plain": [
       "Qwen2VLForConditionalGeneration(\n",
       "  (visual): Qwen2VisionTransformerPretrainedModel(\n",
       "    (patch_embed): PatchEmbed(\n",
       "      (proj): Conv3d(3, 1280, kernel_size=(2, 14, 14), stride=(2, 14, 14), bias=False)\n",
       "    )\n",
       "    (rotary_pos_emb): VisionRotaryEmbedding()\n",
       "    (blocks): ModuleList(\n",
       "      (0-31): 32 x Qwen2VLVisionBlock(\n",
       "        (norm1): LayerNorm((1280,), eps=1e-06, elementwise_affine=True)\n",
       "        (norm2): LayerNorm((1280,), eps=1e-06, elementwise_affine=True)\n",
       "        (attn): VisionSdpaAttention(\n",
       "          (qkv): Linear(in_features=1280, out_features=3840, bias=True)\n",
       "          (proj): Linear(in_features=1280, out_features=1280, bias=True)\n",
       "        )\n",
       "        (mlp): VisionMlp(\n",
       "          (fc1): Linear(in_features=1280, out_features=5120, bias=True)\n",
       "          (act): QuickGELUActivation()\n",
       "          (fc2): Linear(in_features=5120, out_features=1280, bias=True)\n",
       "        )\n",
       "      )\n",
       "    )\n",
       "    (merger): PatchMerger(\n",
       "      (ln_q): LayerNorm((1280,), eps=1e-06, elementwise_affine=True)\n",
       "      (mlp): Sequential(\n",
       "        (0): Linear(in_features=5120, out_features=5120, bias=True)\n",
       "        (1): GELU(approximate='none')\n",
       "        (2): Linear(in_features=5120, out_features=1536, bias=True)\n",
       "      )\n",
       "    )\n",
       "  )\n",
       "  (model): Qwen2VLModel(\n",
       "    (embed_tokens): Embedding(151936, 1536)\n",
       "    (layers): ModuleList(\n",
       "      (0-27): 28 x Qwen2VLDecoderLayer(\n",
       "        (self_attn): Qwen2VLSdpaAttention(\n",
       "          (q_proj): Linear(in_features=1536, out_features=1536, bias=True)\n",
       "          (k_proj): Linear(in_features=1536, out_features=256, bias=True)\n",
       "          (v_proj): Linear(in_features=1536, out_features=256, bias=True)\n",
       "          (o_proj): Linear(in_features=1536, out_features=1536, bias=False)\n",
       "          (rotary_emb): Qwen2RotaryEmbedding()\n",
       "        )\n",
       "        (mlp): Qwen2MLP(\n",
       "          (gate_proj): Linear(in_features=1536, out_features=8960, bias=False)\n",
       "          (up_proj): Linear(in_features=1536, out_features=8960, bias=False)\n",
       "          (down_proj): Linear(in_features=8960, out_features=1536, bias=False)\n",
       "          (act_fn): SiLU()\n",
       "        )\n",
       "        (input_layernorm): Qwen2RMSNorm((1536,), eps=1e-06)\n",
       "        (post_attention_layernorm): Qwen2RMSNorm((1536,), eps=1e-06)\n",
       "      )\n",
       "    )\n",
       "    (norm): Qwen2RMSNorm((1536,), eps=1e-06)\n",
       "  )\n",
       "  (lm_head): Linear(in_features=1536, out_features=151936, bias=False)\n",
       ")"
      ]
     },
     "execution_count": 3,
     "metadata": {},
     "output_type": "execute_result"
    }
   ],
   "source": [
    "model"
   ]
  },
  {
   "cell_type": "code",
   "execution_count": 5,
   "metadata": {},
   "outputs": [
    {
     "ename": "AttributeError",
     "evalue": "'Qwen2VLModel' object has no attribute '_tied_weights_key'",
     "output_type": "error",
     "traceback": [
      "\u001b[0;31m---------------------------------------------------------------------------\u001b[0m",
      "\u001b[0;31mAttributeError\u001b[0m                            Traceback (most recent call last)",
      "Cell \u001b[0;32mIn[5], line 1\u001b[0m\n\u001b[0;32m----> 1\u001b[0m \u001b[43mmodel\u001b[49m\u001b[38;5;241;43m.\u001b[39;49m\u001b[43mmodel\u001b[49m\u001b[38;5;241;43m.\u001b[39;49m\u001b[43m_tied_weights_key\u001b[49m\n",
      "File \u001b[0;32m/home/zeus/miniconda3/envs/cloudspace/lib/python3.10/site-packages/torch/nn/modules/module.py:1688\u001b[0m, in \u001b[0;36mModule.__getattr__\u001b[0;34m(self, name)\u001b[0m\n\u001b[1;32m   1686\u001b[0m     \u001b[38;5;28;01mif\u001b[39;00m name \u001b[38;5;129;01min\u001b[39;00m modules:\n\u001b[1;32m   1687\u001b[0m         \u001b[38;5;28;01mreturn\u001b[39;00m modules[name]\n\u001b[0;32m-> 1688\u001b[0m \u001b[38;5;28;01mraise\u001b[39;00m \u001b[38;5;167;01mAttributeError\u001b[39;00m(\u001b[38;5;124mf\u001b[39m\u001b[38;5;124m\"\u001b[39m\u001b[38;5;124m'\u001b[39m\u001b[38;5;132;01m{\u001b[39;00m\u001b[38;5;28mtype\u001b[39m(\u001b[38;5;28mself\u001b[39m)\u001b[38;5;241m.\u001b[39m\u001b[38;5;18m__name__\u001b[39m\u001b[38;5;132;01m}\u001b[39;00m\u001b[38;5;124m'\u001b[39m\u001b[38;5;124m object has no attribute \u001b[39m\u001b[38;5;124m'\u001b[39m\u001b[38;5;132;01m{\u001b[39;00mname\u001b[38;5;132;01m}\u001b[39;00m\u001b[38;5;124m'\u001b[39m\u001b[38;5;124m\"\u001b[39m)\n",
      "\u001b[0;31mAttributeError\u001b[0m: 'Qwen2VLModel' object has no attribute '_tied_weights_key'"
     ]
    }
   ],
   "source": [
    "model.model._tied_weights_key"
   ]
  },
  {
   "cell_type": "code",
   "execution_count": 13,
   "metadata": {},
   "outputs": [
    {
     "name": "stderr",
     "output_type": "stream",
     "text": [
      "The argument `trust_remote_code` is to be used with Auto classes. It has no effect here and is ignored.\n"
     ]
    },
    {
     "data": {
      "application/vnd.jupyter.widget-view+json": {
       "model_id": "d6a61afb430d4eeab581383cbad7fd32",
       "version_major": 2,
       "version_minor": 0
      },
      "text/plain": [
       "Loading checkpoint shards:   0%|          | 0/2 [00:00<?, ?it/s]"
      ]
     },
     "metadata": {},
     "output_type": "display_data"
    },
    {
     "name": "stderr",
     "output_type": "stream",
     "text": [
      "Some weights of ColQwen were not initialized from the model checkpoint at Qwen/Qwen2-VL-2B-Instruct and are newly initialized: ['custom_text_proj.bias', 'custom_text_proj.weight', 'model.lm_head.weight', 'model.model.embed_tokens.weight', 'model.model.layers.0.input_layernorm.weight', 'model.model.layers.0.mlp.down_proj.weight', 'model.model.layers.0.mlp.gate_proj.weight', 'model.model.layers.0.mlp.up_proj.weight', 'model.model.layers.0.post_attention_layernorm.weight', 'model.model.layers.0.self_attn.k_proj.bias', 'model.model.layers.0.self_attn.k_proj.weight', 'model.model.layers.0.self_attn.o_proj.weight', 'model.model.layers.0.self_attn.q_proj.bias', 'model.model.layers.0.self_attn.q_proj.weight', 'model.model.layers.0.self_attn.v_proj.bias', 'model.model.layers.0.self_attn.v_proj.weight', 'model.model.layers.1.input_layernorm.weight', 'model.model.layers.1.mlp.down_proj.weight', 'model.model.layers.1.mlp.gate_proj.weight', 'model.model.layers.1.mlp.up_proj.weight', 'model.model.layers.1.post_attention_layernorm.weight', 'model.model.layers.1.self_attn.k_proj.bias', 'model.model.layers.1.self_attn.k_proj.weight', 'model.model.layers.1.self_attn.o_proj.weight', 'model.model.layers.1.self_attn.q_proj.bias', 'model.model.layers.1.self_attn.q_proj.weight', 'model.model.layers.1.self_attn.v_proj.bias', 'model.model.layers.1.self_attn.v_proj.weight', 'model.model.layers.10.input_layernorm.weight', 'model.model.layers.10.mlp.down_proj.weight', 'model.model.layers.10.mlp.gate_proj.weight', 'model.model.layers.10.mlp.up_proj.weight', 'model.model.layers.10.post_attention_layernorm.weight', 'model.model.layers.10.self_attn.k_proj.bias', 'model.model.layers.10.self_attn.k_proj.weight', 'model.model.layers.10.self_attn.o_proj.weight', 'model.model.layers.10.self_attn.q_proj.bias', 'model.model.layers.10.self_attn.q_proj.weight', 'model.model.layers.10.self_attn.v_proj.bias', 'model.model.layers.10.self_attn.v_proj.weight', 'model.model.layers.11.input_layernorm.weight', 'model.model.layers.11.mlp.down_proj.weight', 'model.model.layers.11.mlp.gate_proj.weight', 'model.model.layers.11.mlp.up_proj.weight', 'model.model.layers.11.post_attention_layernorm.weight', 'model.model.layers.11.self_attn.k_proj.bias', 'model.model.layers.11.self_attn.k_proj.weight', 'model.model.layers.11.self_attn.o_proj.weight', 'model.model.layers.11.self_attn.q_proj.bias', 'model.model.layers.11.self_attn.q_proj.weight', 'model.model.layers.11.self_attn.v_proj.bias', 'model.model.layers.11.self_attn.v_proj.weight', 'model.model.layers.12.input_layernorm.weight', 'model.model.layers.12.mlp.down_proj.weight', 'model.model.layers.12.mlp.gate_proj.weight', 'model.model.layers.12.mlp.up_proj.weight', 'model.model.layers.12.post_attention_layernorm.weight', 'model.model.layers.12.self_attn.k_proj.bias', 'model.model.layers.12.self_attn.k_proj.weight', 'model.model.layers.12.self_attn.o_proj.weight', 'model.model.layers.12.self_attn.q_proj.bias', 'model.model.layers.12.self_attn.q_proj.weight', 'model.model.layers.12.self_attn.v_proj.bias', 'model.model.layers.12.self_attn.v_proj.weight', 'model.model.layers.13.input_layernorm.weight', 'model.model.layers.13.mlp.down_proj.weight', 'model.model.layers.13.mlp.gate_proj.weight', 'model.model.layers.13.mlp.up_proj.weight', 'model.model.layers.13.post_attention_layernorm.weight', 'model.model.layers.13.self_attn.k_proj.bias', 'model.model.layers.13.self_attn.k_proj.weight', 'model.model.layers.13.self_attn.o_proj.weight', 'model.model.layers.13.self_attn.q_proj.bias', 'model.model.layers.13.self_attn.q_proj.weight', 'model.model.layers.13.self_attn.v_proj.bias', 'model.model.layers.13.self_attn.v_proj.weight', 'model.model.layers.14.input_layernorm.weight', 'model.model.layers.14.mlp.down_proj.weight', 'model.model.layers.14.mlp.gate_proj.weight', 'model.model.layers.14.mlp.up_proj.weight', 'model.model.layers.14.post_attention_layernorm.weight', 'model.model.layers.14.self_attn.k_proj.bias', 'model.model.layers.14.self_attn.k_proj.weight', 'model.model.layers.14.self_attn.o_proj.weight', 'model.model.layers.14.self_attn.q_proj.bias', 'model.model.layers.14.self_attn.q_proj.weight', 'model.model.layers.14.self_attn.v_proj.bias', 'model.model.layers.14.self_attn.v_proj.weight', 'model.model.layers.15.input_layernorm.weight', 'model.model.layers.15.mlp.down_proj.weight', 'model.model.layers.15.mlp.gate_proj.weight', 'model.model.layers.15.mlp.up_proj.weight', 'model.model.layers.15.post_attention_layernorm.weight', 'model.model.layers.15.self_attn.k_proj.bias', 'model.model.layers.15.self_attn.k_proj.weight', 'model.model.layers.15.self_attn.o_proj.weight', 'model.model.layers.15.self_attn.q_proj.bias', 'model.model.layers.15.self_attn.q_proj.weight', 'model.model.layers.15.self_attn.v_proj.bias', 'model.model.layers.15.self_attn.v_proj.weight', 'model.model.layers.16.input_layernorm.weight', 'model.model.layers.16.mlp.down_proj.weight', 'model.model.layers.16.mlp.gate_proj.weight', 'model.model.layers.16.mlp.up_proj.weight', 'model.model.layers.16.post_attention_layernorm.weight', 'model.model.layers.16.self_attn.k_proj.bias', 'model.model.layers.16.self_attn.k_proj.weight', 'model.model.layers.16.self_attn.o_proj.weight', 'model.model.layers.16.self_attn.q_proj.bias', 'model.model.layers.16.self_attn.q_proj.weight', 'model.model.layers.16.self_attn.v_proj.bias', 'model.model.layers.16.self_attn.v_proj.weight', 'model.model.layers.17.input_layernorm.weight', 'model.model.layers.17.mlp.down_proj.weight', 'model.model.layers.17.mlp.gate_proj.weight', 'model.model.layers.17.mlp.up_proj.weight', 'model.model.layers.17.post_attention_layernorm.weight', 'model.model.layers.17.self_attn.k_proj.bias', 'model.model.layers.17.self_attn.k_proj.weight', 'model.model.layers.17.self_attn.o_proj.weight', 'model.model.layers.17.self_attn.q_proj.bias', 'model.model.layers.17.self_attn.q_proj.weight', 'model.model.layers.17.self_attn.v_proj.bias', 'model.model.layers.17.self_attn.v_proj.weight', 'model.model.layers.18.input_layernorm.weight', 'model.model.layers.18.mlp.down_proj.weight', 'model.model.layers.18.mlp.gate_proj.weight', 'model.model.layers.18.mlp.up_proj.weight', 'model.model.layers.18.post_attention_layernorm.weight', 'model.model.layers.18.self_attn.k_proj.bias', 'model.model.layers.18.self_attn.k_proj.weight', 'model.model.layers.18.self_attn.o_proj.weight', 'model.model.layers.18.self_attn.q_proj.bias', 'model.model.layers.18.self_attn.q_proj.weight', 'model.model.layers.18.self_attn.v_proj.bias', 'model.model.layers.18.self_attn.v_proj.weight', 'model.model.layers.19.input_layernorm.weight', 'model.model.layers.19.mlp.down_proj.weight', 'model.model.layers.19.mlp.gate_proj.weight', 'model.model.layers.19.mlp.up_proj.weight', 'model.model.layers.19.post_attention_layernorm.weight', 'model.model.layers.19.self_attn.k_proj.bias', 'model.model.layers.19.self_attn.k_proj.weight', 'model.model.layers.19.self_attn.o_proj.weight', 'model.model.layers.19.self_attn.q_proj.bias', 'model.model.layers.19.self_attn.q_proj.weight', 'model.model.layers.19.self_attn.v_proj.bias', 'model.model.layers.19.self_attn.v_proj.weight', 'model.model.layers.2.input_layernorm.weight', 'model.model.layers.2.mlp.down_proj.weight', 'model.model.layers.2.mlp.gate_proj.weight', 'model.model.layers.2.mlp.up_proj.weight', 'model.model.layers.2.post_attention_layernorm.weight', 'model.model.layers.2.self_attn.k_proj.bias', 'model.model.layers.2.self_attn.k_proj.weight', 'model.model.layers.2.self_attn.o_proj.weight', 'model.model.layers.2.self_attn.q_proj.bias', 'model.model.layers.2.self_attn.q_proj.weight', 'model.model.layers.2.self_attn.v_proj.bias', 'model.model.layers.2.self_attn.v_proj.weight', 'model.model.layers.20.input_layernorm.weight', 'model.model.layers.20.mlp.down_proj.weight', 'model.model.layers.20.mlp.gate_proj.weight', 'model.model.layers.20.mlp.up_proj.weight', 'model.model.layers.20.post_attention_layernorm.weight', 'model.model.layers.20.self_attn.k_proj.bias', 'model.model.layers.20.self_attn.k_proj.weight', 'model.model.layers.20.self_attn.o_proj.weight', 'model.model.layers.20.self_attn.q_proj.bias', 'model.model.layers.20.self_attn.q_proj.weight', 'model.model.layers.20.self_attn.v_proj.bias', 'model.model.layers.20.self_attn.v_proj.weight', 'model.model.layers.21.input_layernorm.weight', 'model.model.layers.21.mlp.down_proj.weight', 'model.model.layers.21.mlp.gate_proj.weight', 'model.model.layers.21.mlp.up_proj.weight', 'model.model.layers.21.post_attention_layernorm.weight', 'model.model.layers.21.self_attn.k_proj.bias', 'model.model.layers.21.self_attn.k_proj.weight', 'model.model.layers.21.self_attn.o_proj.weight', 'model.model.layers.21.self_attn.q_proj.bias', 'model.model.layers.21.self_attn.q_proj.weight', 'model.model.layers.21.self_attn.v_proj.bias', 'model.model.layers.21.self_attn.v_proj.weight', 'model.model.layers.22.input_layernorm.weight', 'model.model.layers.22.mlp.down_proj.weight', 'model.model.layers.22.mlp.gate_proj.weight', 'model.model.layers.22.mlp.up_proj.weight', 'model.model.layers.22.post_attention_layernorm.weight', 'model.model.layers.22.self_attn.k_proj.bias', 'model.model.layers.22.self_attn.k_proj.weight', 'model.model.layers.22.self_attn.o_proj.weight', 'model.model.layers.22.self_attn.q_proj.bias', 'model.model.layers.22.self_attn.q_proj.weight', 'model.model.layers.22.self_attn.v_proj.bias', 'model.model.layers.22.self_attn.v_proj.weight', 'model.model.layers.23.input_layernorm.weight', 'model.model.layers.23.mlp.down_proj.weight', 'model.model.layers.23.mlp.gate_proj.weight', 'model.model.layers.23.mlp.up_proj.weight', 'model.model.layers.23.post_attention_layernorm.weight', 'model.model.layers.23.self_attn.k_proj.bias', 'model.model.layers.23.self_attn.k_proj.weight', 'model.model.layers.23.self_attn.o_proj.weight', 'model.model.layers.23.self_attn.q_proj.bias', 'model.model.layers.23.self_attn.q_proj.weight', 'model.model.layers.23.self_attn.v_proj.bias', 'model.model.layers.23.self_attn.v_proj.weight', 'model.model.layers.24.input_layernorm.weight', 'model.model.layers.24.mlp.down_proj.weight', 'model.model.layers.24.mlp.gate_proj.weight', 'model.model.layers.24.mlp.up_proj.weight', 'model.model.layers.24.post_attention_layernorm.weight', 'model.model.layers.24.self_attn.k_proj.bias', 'model.model.layers.24.self_attn.k_proj.weight', 'model.model.layers.24.self_attn.o_proj.weight', 'model.model.layers.24.self_attn.q_proj.bias', 'model.model.layers.24.self_attn.q_proj.weight', 'model.model.layers.24.self_attn.v_proj.bias', 'model.model.layers.24.self_attn.v_proj.weight', 'model.model.layers.25.input_layernorm.weight', 'model.model.layers.25.mlp.down_proj.weight', 'model.model.layers.25.mlp.gate_proj.weight', 'model.model.layers.25.mlp.up_proj.weight', 'model.model.layers.25.post_attention_layernorm.weight', 'model.model.layers.25.self_attn.k_proj.bias', 'model.model.layers.25.self_attn.k_proj.weight', 'model.model.layers.25.self_attn.o_proj.weight', 'model.model.layers.25.self_attn.q_proj.bias', 'model.model.layers.25.self_attn.q_proj.weight', 'model.model.layers.25.self_attn.v_proj.bias', 'model.model.layers.25.self_attn.v_proj.weight', 'model.model.layers.26.input_layernorm.weight', 'model.model.layers.26.mlp.down_proj.weight', 'model.model.layers.26.mlp.gate_proj.weight', 'model.model.layers.26.mlp.up_proj.weight', 'model.model.layers.26.post_attention_layernorm.weight', 'model.model.layers.26.self_attn.k_proj.bias', 'model.model.layers.26.self_attn.k_proj.weight', 'model.model.layers.26.self_attn.o_proj.weight', 'model.model.layers.26.self_attn.q_proj.bias', 'model.model.layers.26.self_attn.q_proj.weight', 'model.model.layers.26.self_attn.v_proj.bias', 'model.model.layers.26.self_attn.v_proj.weight', 'model.model.layers.27.input_layernorm.weight', 'model.model.layers.27.mlp.down_proj.weight', 'model.model.layers.27.mlp.gate_proj.weight', 'model.model.layers.27.mlp.up_proj.weight', 'model.model.layers.27.post_attention_layernorm.weight', 'model.model.layers.27.self_attn.k_proj.bias', 'model.model.layers.27.self_attn.k_proj.weight', 'model.model.layers.27.self_attn.o_proj.weight', 'model.model.layers.27.self_attn.q_proj.bias', 'model.model.layers.27.self_attn.q_proj.weight', 'model.model.layers.27.self_attn.v_proj.bias', 'model.model.layers.27.self_attn.v_proj.weight', 'model.model.layers.3.input_layernorm.weight', 'model.model.layers.3.mlp.down_proj.weight', 'model.model.layers.3.mlp.gate_proj.weight', 'model.model.layers.3.mlp.up_proj.weight', 'model.model.layers.3.post_attention_layernorm.weight', 'model.model.layers.3.self_attn.k_proj.bias', 'model.model.layers.3.self_attn.k_proj.weight', 'model.model.layers.3.self_attn.o_proj.weight', 'model.model.layers.3.self_attn.q_proj.bias', 'model.model.layers.3.self_attn.q_proj.weight', 'model.model.layers.3.self_attn.v_proj.bias', 'model.model.layers.3.self_attn.v_proj.weight', 'model.model.layers.4.input_layernorm.weight', 'model.model.layers.4.mlp.down_proj.weight', 'model.model.layers.4.mlp.gate_proj.weight', 'model.model.layers.4.mlp.up_proj.weight', 'model.model.layers.4.post_attention_layernorm.weight', 'model.model.layers.4.self_attn.k_proj.bias', 'model.model.layers.4.self_attn.k_proj.weight', 'model.model.layers.4.self_attn.o_proj.weight', 'model.model.layers.4.self_attn.q_proj.bias', 'model.model.layers.4.self_attn.q_proj.weight', 'model.model.layers.4.self_attn.v_proj.bias', 'model.model.layers.4.self_attn.v_proj.weight', 'model.model.layers.5.input_layernorm.weight', 'model.model.layers.5.mlp.down_proj.weight', 'model.model.layers.5.mlp.gate_proj.weight', 'model.model.layers.5.mlp.up_proj.weight', 'model.model.layers.5.post_attention_layernorm.weight', 'model.model.layers.5.self_attn.k_proj.bias', 'model.model.layers.5.self_attn.k_proj.weight', 'model.model.layers.5.self_attn.o_proj.weight', 'model.model.layers.5.self_attn.q_proj.bias', 'model.model.layers.5.self_attn.q_proj.weight', 'model.model.layers.5.self_attn.v_proj.bias', 'model.model.layers.5.self_attn.v_proj.weight', 'model.model.layers.6.input_layernorm.weight', 'model.model.layers.6.mlp.down_proj.weight', 'model.model.layers.6.mlp.gate_proj.weight', 'model.model.layers.6.mlp.up_proj.weight', 'model.model.layers.6.post_attention_layernorm.weight', 'model.model.layers.6.self_attn.k_proj.bias', 'model.model.layers.6.self_attn.k_proj.weight', 'model.model.layers.6.self_attn.o_proj.weight', 'model.model.layers.6.self_attn.q_proj.bias', 'model.model.layers.6.self_attn.q_proj.weight', 'model.model.layers.6.self_attn.v_proj.bias', 'model.model.layers.6.self_attn.v_proj.weight', 'model.model.layers.7.input_layernorm.weight', 'model.model.layers.7.mlp.down_proj.weight', 'model.model.layers.7.mlp.gate_proj.weight', 'model.model.layers.7.mlp.up_proj.weight', 'model.model.layers.7.post_attention_layernorm.weight', 'model.model.layers.7.self_attn.k_proj.bias', 'model.model.layers.7.self_attn.k_proj.weight', 'model.model.layers.7.self_attn.o_proj.weight', 'model.model.layers.7.self_attn.q_proj.bias', 'model.model.layers.7.self_attn.q_proj.weight', 'model.model.layers.7.self_attn.v_proj.bias', 'model.model.layers.7.self_attn.v_proj.weight', 'model.model.layers.8.input_layernorm.weight', 'model.model.layers.8.mlp.down_proj.weight', 'model.model.layers.8.mlp.gate_proj.weight', 'model.model.layers.8.mlp.up_proj.weight', 'model.model.layers.8.post_attention_layernorm.weight', 'model.model.layers.8.self_attn.k_proj.bias', 'model.model.layers.8.self_attn.k_proj.weight', 'model.model.layers.8.self_attn.o_proj.weight', 'model.model.layers.8.self_attn.q_proj.bias', 'model.model.layers.8.self_attn.q_proj.weight', 'model.model.layers.8.self_attn.v_proj.bias', 'model.model.layers.8.self_attn.v_proj.weight', 'model.model.layers.9.input_layernorm.weight', 'model.model.layers.9.mlp.down_proj.weight', 'model.model.layers.9.mlp.gate_proj.weight', 'model.model.layers.9.mlp.up_proj.weight', 'model.model.layers.9.post_attention_layernorm.weight', 'model.model.layers.9.self_attn.k_proj.bias', 'model.model.layers.9.self_attn.k_proj.weight', 'model.model.layers.9.self_attn.o_proj.weight', 'model.model.layers.9.self_attn.q_proj.bias', 'model.model.layers.9.self_attn.q_proj.weight', 'model.model.layers.9.self_attn.v_proj.bias', 'model.model.layers.9.self_attn.v_proj.weight', 'model.model.norm.weight', 'model.visual.blocks.0.attn.proj.bias', 'model.visual.blocks.0.attn.proj.weight', 'model.visual.blocks.0.attn.qkv.bias', 'model.visual.blocks.0.attn.qkv.weight', 'model.visual.blocks.0.mlp.fc1.bias', 'model.visual.blocks.0.mlp.fc1.weight', 'model.visual.blocks.0.mlp.fc2.bias', 'model.visual.blocks.0.mlp.fc2.weight', 'model.visual.blocks.0.norm1.bias', 'model.visual.blocks.0.norm1.weight', 'model.visual.blocks.0.norm2.bias', 'model.visual.blocks.0.norm2.weight', 'model.visual.blocks.1.attn.proj.bias', 'model.visual.blocks.1.attn.proj.weight', 'model.visual.blocks.1.attn.qkv.bias', 'model.visual.blocks.1.attn.qkv.weight', 'model.visual.blocks.1.mlp.fc1.bias', 'model.visual.blocks.1.mlp.fc1.weight', 'model.visual.blocks.1.mlp.fc2.bias', 'model.visual.blocks.1.mlp.fc2.weight', 'model.visual.blocks.1.norm1.bias', 'model.visual.blocks.1.norm1.weight', 'model.visual.blocks.1.norm2.bias', 'model.visual.blocks.1.norm2.weight', 'model.visual.blocks.10.attn.proj.bias', 'model.visual.blocks.10.attn.proj.weight', 'model.visual.blocks.10.attn.qkv.bias', 'model.visual.blocks.10.attn.qkv.weight', 'model.visual.blocks.10.mlp.fc1.bias', 'model.visual.blocks.10.mlp.fc1.weight', 'model.visual.blocks.10.mlp.fc2.bias', 'model.visual.blocks.10.mlp.fc2.weight', 'model.visual.blocks.10.norm1.bias', 'model.visual.blocks.10.norm1.weight', 'model.visual.blocks.10.norm2.bias', 'model.visual.blocks.10.norm2.weight', 'model.visual.blocks.11.attn.proj.bias', 'model.visual.blocks.11.attn.proj.weight', 'model.visual.blocks.11.attn.qkv.bias', 'model.visual.blocks.11.attn.qkv.weight', 'model.visual.blocks.11.mlp.fc1.bias', 'model.visual.blocks.11.mlp.fc1.weight', 'model.visual.blocks.11.mlp.fc2.bias', 'model.visual.blocks.11.mlp.fc2.weight', 'model.visual.blocks.11.norm1.bias', 'model.visual.blocks.11.norm1.weight', 'model.visual.blocks.11.norm2.bias', 'model.visual.blocks.11.norm2.weight', 'model.visual.blocks.12.attn.proj.bias', 'model.visual.blocks.12.attn.proj.weight', 'model.visual.blocks.12.attn.qkv.bias', 'model.visual.blocks.12.attn.qkv.weight', 'model.visual.blocks.12.mlp.fc1.bias', 'model.visual.blocks.12.mlp.fc1.weight', 'model.visual.blocks.12.mlp.fc2.bias', 'model.visual.blocks.12.mlp.fc2.weight', 'model.visual.blocks.12.norm1.bias', 'model.visual.blocks.12.norm1.weight', 'model.visual.blocks.12.norm2.bias', 'model.visual.blocks.12.norm2.weight', 'model.visual.blocks.13.attn.proj.bias', 'model.visual.blocks.13.attn.proj.weight', 'model.visual.blocks.13.attn.qkv.bias', 'model.visual.blocks.13.attn.qkv.weight', 'model.visual.blocks.13.mlp.fc1.bias', 'model.visual.blocks.13.mlp.fc1.weight', 'model.visual.blocks.13.mlp.fc2.bias', 'model.visual.blocks.13.mlp.fc2.weight', 'model.visual.blocks.13.norm1.bias', 'model.visual.blocks.13.norm1.weight', 'model.visual.blocks.13.norm2.bias', 'model.visual.blocks.13.norm2.weight', 'model.visual.blocks.14.attn.proj.bias', 'model.visual.blocks.14.attn.proj.weight', 'model.visual.blocks.14.attn.qkv.bias', 'model.visual.blocks.14.attn.qkv.weight', 'model.visual.blocks.14.mlp.fc1.bias', 'model.visual.blocks.14.mlp.fc1.weight', 'model.visual.blocks.14.mlp.fc2.bias', 'model.visual.blocks.14.mlp.fc2.weight', 'model.visual.blocks.14.norm1.bias', 'model.visual.blocks.14.norm1.weight', 'model.visual.blocks.14.norm2.bias', 'model.visual.blocks.14.norm2.weight', 'model.visual.blocks.15.attn.proj.bias', 'model.visual.blocks.15.attn.proj.weight', 'model.visual.blocks.15.attn.qkv.bias', 'model.visual.blocks.15.attn.qkv.weight', 'model.visual.blocks.15.mlp.fc1.bias', 'model.visual.blocks.15.mlp.fc1.weight', 'model.visual.blocks.15.mlp.fc2.bias', 'model.visual.blocks.15.mlp.fc2.weight', 'model.visual.blocks.15.norm1.bias', 'model.visual.blocks.15.norm1.weight', 'model.visual.blocks.15.norm2.bias', 'model.visual.blocks.15.norm2.weight', 'model.visual.blocks.16.attn.proj.bias', 'model.visual.blocks.16.attn.proj.weight', 'model.visual.blocks.16.attn.qkv.bias', 'model.visual.blocks.16.attn.qkv.weight', 'model.visual.blocks.16.mlp.fc1.bias', 'model.visual.blocks.16.mlp.fc1.weight', 'model.visual.blocks.16.mlp.fc2.bias', 'model.visual.blocks.16.mlp.fc2.weight', 'model.visual.blocks.16.norm1.bias', 'model.visual.blocks.16.norm1.weight', 'model.visual.blocks.16.norm2.bias', 'model.visual.blocks.16.norm2.weight', 'model.visual.blocks.17.attn.proj.bias', 'model.visual.blocks.17.attn.proj.weight', 'model.visual.blocks.17.attn.qkv.bias', 'model.visual.blocks.17.attn.qkv.weight', 'model.visual.blocks.17.mlp.fc1.bias', 'model.visual.blocks.17.mlp.fc1.weight', 'model.visual.blocks.17.mlp.fc2.bias', 'model.visual.blocks.17.mlp.fc2.weight', 'model.visual.blocks.17.norm1.bias', 'model.visual.blocks.17.norm1.weight', 'model.visual.blocks.17.norm2.bias', 'model.visual.blocks.17.norm2.weight', 'model.visual.blocks.18.attn.proj.bias', 'model.visual.blocks.18.attn.proj.weight', 'model.visual.blocks.18.attn.qkv.bias', 'model.visual.blocks.18.attn.qkv.weight', 'model.visual.blocks.18.mlp.fc1.bias', 'model.visual.blocks.18.mlp.fc1.weight', 'model.visual.blocks.18.mlp.fc2.bias', 'model.visual.blocks.18.mlp.fc2.weight', 'model.visual.blocks.18.norm1.bias', 'model.visual.blocks.18.norm1.weight', 'model.visual.blocks.18.norm2.bias', 'model.visual.blocks.18.norm2.weight', 'model.visual.blocks.19.attn.proj.bias', 'model.visual.blocks.19.attn.proj.weight', 'model.visual.blocks.19.attn.qkv.bias', 'model.visual.blocks.19.attn.qkv.weight', 'model.visual.blocks.19.mlp.fc1.bias', 'model.visual.blocks.19.mlp.fc1.weight', 'model.visual.blocks.19.mlp.fc2.bias', 'model.visual.blocks.19.mlp.fc2.weight', 'model.visual.blocks.19.norm1.bias', 'model.visual.blocks.19.norm1.weight', 'model.visual.blocks.19.norm2.bias', 'model.visual.blocks.19.norm2.weight', 'model.visual.blocks.2.attn.proj.bias', 'model.visual.blocks.2.attn.proj.weight', 'model.visual.blocks.2.attn.qkv.bias', 'model.visual.blocks.2.attn.qkv.weight', 'model.visual.blocks.2.mlp.fc1.bias', 'model.visual.blocks.2.mlp.fc1.weight', 'model.visual.blocks.2.mlp.fc2.bias', 'model.visual.blocks.2.mlp.fc2.weight', 'model.visual.blocks.2.norm1.bias', 'model.visual.blocks.2.norm1.weight', 'model.visual.blocks.2.norm2.bias', 'model.visual.blocks.2.norm2.weight', 'model.visual.blocks.20.attn.proj.bias', 'model.visual.blocks.20.attn.proj.weight', 'model.visual.blocks.20.attn.qkv.bias', 'model.visual.blocks.20.attn.qkv.weight', 'model.visual.blocks.20.mlp.fc1.bias', 'model.visual.blocks.20.mlp.fc1.weight', 'model.visual.blocks.20.mlp.fc2.bias', 'model.visual.blocks.20.mlp.fc2.weight', 'model.visual.blocks.20.norm1.bias', 'model.visual.blocks.20.norm1.weight', 'model.visual.blocks.20.norm2.bias', 'model.visual.blocks.20.norm2.weight', 'model.visual.blocks.21.attn.proj.bias', 'model.visual.blocks.21.attn.proj.weight', 'model.visual.blocks.21.attn.qkv.bias', 'model.visual.blocks.21.attn.qkv.weight', 'model.visual.blocks.21.mlp.fc1.bias', 'model.visual.blocks.21.mlp.fc1.weight', 'model.visual.blocks.21.mlp.fc2.bias', 'model.visual.blocks.21.mlp.fc2.weight', 'model.visual.blocks.21.norm1.bias', 'model.visual.blocks.21.norm1.weight', 'model.visual.blocks.21.norm2.bias', 'model.visual.blocks.21.norm2.weight', 'model.visual.blocks.22.attn.proj.bias', 'model.visual.blocks.22.attn.proj.weight', 'model.visual.blocks.22.attn.qkv.bias', 'model.visual.blocks.22.attn.qkv.weight', 'model.visual.blocks.22.mlp.fc1.bias', 'model.visual.blocks.22.mlp.fc1.weight', 'model.visual.blocks.22.mlp.fc2.bias', 'model.visual.blocks.22.mlp.fc2.weight', 'model.visual.blocks.22.norm1.bias', 'model.visual.blocks.22.norm1.weight', 'model.visual.blocks.22.norm2.bias', 'model.visual.blocks.22.norm2.weight', 'model.visual.blocks.23.attn.proj.bias', 'model.visual.blocks.23.attn.proj.weight', 'model.visual.blocks.23.attn.qkv.bias', 'model.visual.blocks.23.attn.qkv.weight', 'model.visual.blocks.23.mlp.fc1.bias', 'model.visual.blocks.23.mlp.fc1.weight', 'model.visual.blocks.23.mlp.fc2.bias', 'model.visual.blocks.23.mlp.fc2.weight', 'model.visual.blocks.23.norm1.bias', 'model.visual.blocks.23.norm1.weight', 'model.visual.blocks.23.norm2.bias', 'model.visual.blocks.23.norm2.weight', 'model.visual.blocks.24.attn.proj.bias', 'model.visual.blocks.24.attn.proj.weight', 'model.visual.blocks.24.attn.qkv.bias', 'model.visual.blocks.24.attn.qkv.weight', 'model.visual.blocks.24.mlp.fc1.bias', 'model.visual.blocks.24.mlp.fc1.weight', 'model.visual.blocks.24.mlp.fc2.bias', 'model.visual.blocks.24.mlp.fc2.weight', 'model.visual.blocks.24.norm1.bias', 'model.visual.blocks.24.norm1.weight', 'model.visual.blocks.24.norm2.bias', 'model.visual.blocks.24.norm2.weight', 'model.visual.blocks.25.attn.proj.bias', 'model.visual.blocks.25.attn.proj.weight', 'model.visual.blocks.25.attn.qkv.bias', 'model.visual.blocks.25.attn.qkv.weight', 'model.visual.blocks.25.mlp.fc1.bias', 'model.visual.blocks.25.mlp.fc1.weight', 'model.visual.blocks.25.mlp.fc2.bias', 'model.visual.blocks.25.mlp.fc2.weight', 'model.visual.blocks.25.norm1.bias', 'model.visual.blocks.25.norm1.weight', 'model.visual.blocks.25.norm2.bias', 'model.visual.blocks.25.norm2.weight', 'model.visual.blocks.26.attn.proj.bias', 'model.visual.blocks.26.attn.proj.weight', 'model.visual.blocks.26.attn.qkv.bias', 'model.visual.blocks.26.attn.qkv.weight', 'model.visual.blocks.26.mlp.fc1.bias', 'model.visual.blocks.26.mlp.fc1.weight', 'model.visual.blocks.26.mlp.fc2.bias', 'model.visual.blocks.26.mlp.fc2.weight', 'model.visual.blocks.26.norm1.bias', 'model.visual.blocks.26.norm1.weight', 'model.visual.blocks.26.norm2.bias', 'model.visual.blocks.26.norm2.weight', 'model.visual.blocks.27.attn.proj.bias', 'model.visual.blocks.27.attn.proj.weight', 'model.visual.blocks.27.attn.qkv.bias', 'model.visual.blocks.27.attn.qkv.weight', 'model.visual.blocks.27.mlp.fc1.bias', 'model.visual.blocks.27.mlp.fc1.weight', 'model.visual.blocks.27.mlp.fc2.bias', 'model.visual.blocks.27.mlp.fc2.weight', 'model.visual.blocks.27.norm1.bias', 'model.visual.blocks.27.norm1.weight', 'model.visual.blocks.27.norm2.bias', 'model.visual.blocks.27.norm2.weight', 'model.visual.blocks.28.attn.proj.bias', 'model.visual.blocks.28.attn.proj.weight', 'model.visual.blocks.28.attn.qkv.bias', 'model.visual.blocks.28.attn.qkv.weight', 'model.visual.blocks.28.mlp.fc1.bias', 'model.visual.blocks.28.mlp.fc1.weight', 'model.visual.blocks.28.mlp.fc2.bias', 'model.visual.blocks.28.mlp.fc2.weight', 'model.visual.blocks.28.norm1.bias', 'model.visual.blocks.28.norm1.weight', 'model.visual.blocks.28.norm2.bias', 'model.visual.blocks.28.norm2.weight', 'model.visual.blocks.29.attn.proj.bias', 'model.visual.blocks.29.attn.proj.weight', 'model.visual.blocks.29.attn.qkv.bias', 'model.visual.blocks.29.attn.qkv.weight', 'model.visual.blocks.29.mlp.fc1.bias', 'model.visual.blocks.29.mlp.fc1.weight', 'model.visual.blocks.29.mlp.fc2.bias', 'model.visual.blocks.29.mlp.fc2.weight', 'model.visual.blocks.29.norm1.bias', 'model.visual.blocks.29.norm1.weight', 'model.visual.blocks.29.norm2.bias', 'model.visual.blocks.29.norm2.weight', 'model.visual.blocks.3.attn.proj.bias', 'model.visual.blocks.3.attn.proj.weight', 'model.visual.blocks.3.attn.qkv.bias', 'model.visual.blocks.3.attn.qkv.weight', 'model.visual.blocks.3.mlp.fc1.bias', 'model.visual.blocks.3.mlp.fc1.weight', 'model.visual.blocks.3.mlp.fc2.bias', 'model.visual.blocks.3.mlp.fc2.weight', 'model.visual.blocks.3.norm1.bias', 'model.visual.blocks.3.norm1.weight', 'model.visual.blocks.3.norm2.bias', 'model.visual.blocks.3.norm2.weight', 'model.visual.blocks.30.attn.proj.bias', 'model.visual.blocks.30.attn.proj.weight', 'model.visual.blocks.30.attn.qkv.bias', 'model.visual.blocks.30.attn.qkv.weight', 'model.visual.blocks.30.mlp.fc1.bias', 'model.visual.blocks.30.mlp.fc1.weight', 'model.visual.blocks.30.mlp.fc2.bias', 'model.visual.blocks.30.mlp.fc2.weight', 'model.visual.blocks.30.norm1.bias', 'model.visual.blocks.30.norm1.weight', 'model.visual.blocks.30.norm2.bias', 'model.visual.blocks.30.norm2.weight', 'model.visual.blocks.31.attn.proj.bias', 'model.visual.blocks.31.attn.proj.weight', 'model.visual.blocks.31.attn.qkv.bias', 'model.visual.blocks.31.attn.qkv.weight', 'model.visual.blocks.31.mlp.fc1.bias', 'model.visual.blocks.31.mlp.fc1.weight', 'model.visual.blocks.31.mlp.fc2.bias', 'model.visual.blocks.31.mlp.fc2.weight', 'model.visual.blocks.31.norm1.bias', 'model.visual.blocks.31.norm1.weight', 'model.visual.blocks.31.norm2.bias', 'model.visual.blocks.31.norm2.weight', 'model.visual.blocks.4.attn.proj.bias', 'model.visual.blocks.4.attn.proj.weight', 'model.visual.blocks.4.attn.qkv.bias', 'model.visual.blocks.4.attn.qkv.weight', 'model.visual.blocks.4.mlp.fc1.bias', 'model.visual.blocks.4.mlp.fc1.weight', 'model.visual.blocks.4.mlp.fc2.bias', 'model.visual.blocks.4.mlp.fc2.weight', 'model.visual.blocks.4.norm1.bias', 'model.visual.blocks.4.norm1.weight', 'model.visual.blocks.4.norm2.bias', 'model.visual.blocks.4.norm2.weight', 'model.visual.blocks.5.attn.proj.bias', 'model.visual.blocks.5.attn.proj.weight', 'model.visual.blocks.5.attn.qkv.bias', 'model.visual.blocks.5.attn.qkv.weight', 'model.visual.blocks.5.mlp.fc1.bias', 'model.visual.blocks.5.mlp.fc1.weight', 'model.visual.blocks.5.mlp.fc2.bias', 'model.visual.blocks.5.mlp.fc2.weight', 'model.visual.blocks.5.norm1.bias', 'model.visual.blocks.5.norm1.weight', 'model.visual.blocks.5.norm2.bias', 'model.visual.blocks.5.norm2.weight', 'model.visual.blocks.6.attn.proj.bias', 'model.visual.blocks.6.attn.proj.weight', 'model.visual.blocks.6.attn.qkv.bias', 'model.visual.blocks.6.attn.qkv.weight', 'model.visual.blocks.6.mlp.fc1.bias', 'model.visual.blocks.6.mlp.fc1.weight', 'model.visual.blocks.6.mlp.fc2.bias', 'model.visual.blocks.6.mlp.fc2.weight', 'model.visual.blocks.6.norm1.bias', 'model.visual.blocks.6.norm1.weight', 'model.visual.blocks.6.norm2.bias', 'model.visual.blocks.6.norm2.weight', 'model.visual.blocks.7.attn.proj.bias', 'model.visual.blocks.7.attn.proj.weight', 'model.visual.blocks.7.attn.qkv.bias', 'model.visual.blocks.7.attn.qkv.weight', 'model.visual.blocks.7.mlp.fc1.bias', 'model.visual.blocks.7.mlp.fc1.weight', 'model.visual.blocks.7.mlp.fc2.bias', 'model.visual.blocks.7.mlp.fc2.weight', 'model.visual.blocks.7.norm1.bias', 'model.visual.blocks.7.norm1.weight', 'model.visual.blocks.7.norm2.bias', 'model.visual.blocks.7.norm2.weight', 'model.visual.blocks.8.attn.proj.bias', 'model.visual.blocks.8.attn.proj.weight', 'model.visual.blocks.8.attn.qkv.bias', 'model.visual.blocks.8.attn.qkv.weight', 'model.visual.blocks.8.mlp.fc1.bias', 'model.visual.blocks.8.mlp.fc1.weight', 'model.visual.blocks.8.mlp.fc2.bias', 'model.visual.blocks.8.mlp.fc2.weight', 'model.visual.blocks.8.norm1.bias', 'model.visual.blocks.8.norm1.weight', 'model.visual.blocks.8.norm2.bias', 'model.visual.blocks.8.norm2.weight', 'model.visual.blocks.9.attn.proj.bias', 'model.visual.blocks.9.attn.proj.weight', 'model.visual.blocks.9.attn.qkv.bias', 'model.visual.blocks.9.attn.qkv.weight', 'model.visual.blocks.9.mlp.fc1.bias', 'model.visual.blocks.9.mlp.fc1.weight', 'model.visual.blocks.9.mlp.fc2.bias', 'model.visual.blocks.9.mlp.fc2.weight', 'model.visual.blocks.9.norm1.bias', 'model.visual.blocks.9.norm1.weight', 'model.visual.blocks.9.norm2.bias', 'model.visual.blocks.9.norm2.weight', 'model.visual.merger.ln_q.bias', 'model.visual.merger.ln_q.weight', 'model.visual.merger.mlp.0.bias', 'model.visual.merger.mlp.0.weight', 'model.visual.merger.mlp.2.bias', 'model.visual.merger.mlp.2.weight', 'model.visual.patch_embed.proj.weight']\n",
      "You should probably TRAIN this model on a down-stream task to be able to use it for predictions and inference.\n",
      "WARNING:bitsandbytes.cextension:The installed version of bitsandbytes was compiled without GPU support. 8-bit optimizers, 8-bit multiplication, and GPU quantization are unavailable.\n"
     ]
    },
    {
     "name": "stdout",
     "output_type": "stream",
     "text": [
      "pynvml not found. GPU stats will not be printed.\n",
      "Configurating PEFT model\n",
      "trainable params: 31,281,152 || all params: 2,473,837,184 || trainable%: 1.2645\n"
     ]
    },
    {
     "ename": "",
     "evalue": "",
     "output_type": "error",
     "traceback": [
      "\u001b[1;31mThe Kernel crashed while executing code in the current cell or a previous cell. \n",
      "\u001b[1;31mPlease review the code in the cell(s) to identify a possible cause of the failure. \n",
      "\u001b[1;31mClick <a href='https://aka.ms/vscodeJupyterKernelCrash'>here</a> for more info. \n",
      "\u001b[1;31mView Jupyter <a href='command:jupyter.viewOutput'>log</a> for further details."
     ]
    }
   ],
   "source": [
    "import configue\n",
    "import importlib\n",
    "from pathlib import Path\n",
    "\n",
    "from transformers import AutoModelForCausalLM, AutoTokenizer\n",
    "\n",
    "# model = Phi3VModel.from_pretrained(\"microsoft/Phi-3-vision-128k-instruct\", _attn_implementation=\"eager\")\n",
    "\n",
    "\n",
    "config_path = Path(\"/teamspace/studios/this_studio/colphi3/scripts/configs/qwen/train_colqwen_model.yaml\")\n",
    "config = configue.load(config_path, sub_path=\"config\")\n"
   ]
  },
  {
   "cell_type": "code",
   "execution_count": 16,
   "metadata": {},
   "outputs": [],
   "source": [
    "import requests\n",
    "from PIL import Image\n",
    "url = \"https://qianwen-res.oss-cn-beijing.aliyuncs.com/Qwen-VL/assets/demo.jpeg\"\n",
    "image = Image.open(requests.get(url, stream=True).raw)\n",
    "\n",
    "# convert image to base64 string from PIL\n",
    "\n",
    "conversation = [\n",
    "    {\n",
    "        \"role\": \"user\",\n",
    "        \"content\": [\n",
    " \n",
    "            # {\"type\": \"image\"},\n",
    "            {\"type\": \"text\", \"text\": \"Describe this image.\"},\n",
    "        ],\n",
    "    }\n",
    "]\n",
    "text_prompt = processor.apply_chat_template(conversation, add_generation_prompt=False)\n",
    "\n",
    "inputs = processor(\n",
    "    text=[text_prompt], images=[image], padding=True, return_tensors=\"pt\"\n",
    ").to(config.model.device)"
   ]
  },
  {
   "cell_type": "code",
   "execution_count": 17,
   "metadata": {},
   "outputs": [
    {
     "data": {
      "text/plain": [
       "{'input_ids': tensor([[151644,   8948,    198,   2610,    525,    264,  10950,  17847,     13,\n",
       "         151645,    198, 151644,    872,    198,  74785,    419,   2168,     13,\n",
       "         151645,    198]], device='cuda:0'), 'attention_mask': tensor([[1, 1, 1, 1, 1, 1, 1, 1, 1, 1, 1, 1, 1, 1, 1, 1, 1, 1, 1, 1]],\n",
       "       device='cuda:0'), 'pixel_values': tensor([[ 0.8501,  0.8647,  0.8647,  ...,  1.4207,  1.4349,  1.4349],\n",
       "        [ 1.0106,  1.0106,  1.0252,  ...,  1.5060,  1.5060,  1.5202],\n",
       "        [ 0.9960,  1.0106,  1.0252,  ...,  1.5060,  1.5202,  1.5202],\n",
       "        ...,\n",
       "        [-0.2448, -0.2594, -0.2886,  ..., -0.1862, -0.1720, -0.1862],\n",
       "        [-0.1426, -0.0988, -0.0550,  ..., -0.1293, -0.1435, -0.1720],\n",
       "        [-0.2448, -0.2448, -0.2594,  ..., -0.3853, -0.4279, -0.4564]],\n",
       "       device='cuda:0'), 'image_grid_thw': tensor([[ 1, 58, 86]], device='cuda:0')}"
      ]
     },
     "execution_count": 17,
     "metadata": {},
     "output_type": "execute_result"
    }
   ],
   "source": [
    "inputs"
   ]
  },
  {
   "cell_type": "code",
   "execution_count": 18,
   "metadata": {},
   "outputs": [
    {
     "data": {
      "text/plain": [
       "PeftModelForFeatureExtraction(\n",
       "  (base_model): LoraModel(\n",
       "    (model): ColQwen(\n",
       "      (model): Qwen2VLForConditionalGeneration(\n",
       "        (visual): Qwen2VisionTransformerPretrainedModel(\n",
       "          (patch_embed): PatchEmbed(\n",
       "            (proj): Conv3d(3, 1280, kernel_size=(2, 14, 14), stride=(2, 14, 14), bias=False)\n",
       "          )\n",
       "          (rotary_pos_emb): VisionRotaryEmbedding()\n",
       "          (blocks): ModuleList(\n",
       "            (0-31): 32 x Qwen2VLVisionBlock(\n",
       "              (norm1): LayerNorm((1280,), eps=1e-06, elementwise_affine=True)\n",
       "              (norm2): LayerNorm((1280,), eps=1e-06, elementwise_affine=True)\n",
       "              (attn): VisionSdpaAttention(\n",
       "                (qkv): Linear4bit(in_features=1280, out_features=3840, bias=True)\n",
       "                (proj): Linear4bit(in_features=1280, out_features=1280, bias=True)\n",
       "              )\n",
       "              (mlp): VisionMlp(\n",
       "                (fc1): lora.Linear4bit(\n",
       "                  (base_layer): Linear4bit(in_features=1280, out_features=5120, bias=True)\n",
       "                  (lora_dropout): ModuleDict(\n",
       "                    (default): Dropout(p=0.1, inplace=False)\n",
       "                  )\n",
       "                  (lora_A): ModuleDict(\n",
       "                    (default): Linear(in_features=1280, out_features=32, bias=False)\n",
       "                  )\n",
       "                  (lora_B): ModuleDict(\n",
       "                    (default): Linear(in_features=32, out_features=5120, bias=False)\n",
       "                  )\n",
       "                  (lora_embedding_A): ParameterDict()\n",
       "                  (lora_embedding_B): ParameterDict()\n",
       "                )\n",
       "                (act): QuickGELUActivation()\n",
       "                (fc2): lora.Linear4bit(\n",
       "                  (base_layer): Linear4bit(in_features=5120, out_features=1280, bias=True)\n",
       "                  (lora_dropout): ModuleDict(\n",
       "                    (default): Dropout(p=0.1, inplace=False)\n",
       "                  )\n",
       "                  (lora_A): ModuleDict(\n",
       "                    (default): Linear(in_features=5120, out_features=32, bias=False)\n",
       "                  )\n",
       "                  (lora_B): ModuleDict(\n",
       "                    (default): Linear(in_features=32, out_features=1280, bias=False)\n",
       "                  )\n",
       "                  (lora_embedding_A): ParameterDict()\n",
       "                  (lora_embedding_B): ParameterDict()\n",
       "                )\n",
       "              )\n",
       "            )\n",
       "          )\n",
       "          (merger): PatchMerger(\n",
       "            (ln_q): LayerNorm((1280,), eps=1e-06, elementwise_affine=True)\n",
       "            (mlp): Sequential(\n",
       "              (0): Linear4bit(in_features=5120, out_features=5120, bias=True)\n",
       "              (1): GELU(approximate='none')\n",
       "              (2): Linear4bit(in_features=5120, out_features=1536, bias=True)\n",
       "            )\n",
       "          )\n",
       "        )\n",
       "        (model): Qwen2VLModel(\n",
       "          (embed_tokens): Embedding(151936, 1536)\n",
       "          (layers): ModuleList(\n",
       "            (0-27): 28 x Qwen2VLDecoderLayer(\n",
       "              (self_attn): Qwen2VLSdpaAttention(\n",
       "                (q_proj): lora.Linear4bit(\n",
       "                  (base_layer): Linear4bit(in_features=1536, out_features=1536, bias=True)\n",
       "                  (lora_dropout): ModuleDict(\n",
       "                    (default): Dropout(p=0.1, inplace=False)\n",
       "                  )\n",
       "                  (lora_A): ModuleDict(\n",
       "                    (default): Linear(in_features=1536, out_features=32, bias=False)\n",
       "                  )\n",
       "                  (lora_B): ModuleDict(\n",
       "                    (default): Linear(in_features=32, out_features=1536, bias=False)\n",
       "                  )\n",
       "                  (lora_embedding_A): ParameterDict()\n",
       "                  (lora_embedding_B): ParameterDict()\n",
       "                )\n",
       "                (k_proj): lora.Linear4bit(\n",
       "                  (base_layer): Linear4bit(in_features=1536, out_features=256, bias=True)\n",
       "                  (lora_dropout): ModuleDict(\n",
       "                    (default): Dropout(p=0.1, inplace=False)\n",
       "                  )\n",
       "                  (lora_A): ModuleDict(\n",
       "                    (default): Linear(in_features=1536, out_features=32, bias=False)\n",
       "                  )\n",
       "                  (lora_B): ModuleDict(\n",
       "                    (default): Linear(in_features=32, out_features=256, bias=False)\n",
       "                  )\n",
       "                  (lora_embedding_A): ParameterDict()\n",
       "                  (lora_embedding_B): ParameterDict()\n",
       "                )\n",
       "                (v_proj): lora.Linear4bit(\n",
       "                  (base_layer): Linear4bit(in_features=1536, out_features=256, bias=True)\n",
       "                  (lora_dropout): ModuleDict(\n",
       "                    (default): Dropout(p=0.1, inplace=False)\n",
       "                  )\n",
       "                  (lora_A): ModuleDict(\n",
       "                    (default): Linear(in_features=1536, out_features=32, bias=False)\n",
       "                  )\n",
       "                  (lora_B): ModuleDict(\n",
       "                    (default): Linear(in_features=32, out_features=256, bias=False)\n",
       "                  )\n",
       "                  (lora_embedding_A): ParameterDict()\n",
       "                  (lora_embedding_B): ParameterDict()\n",
       "                )\n",
       "                (o_proj): lora.Linear4bit(\n",
       "                  (base_layer): Linear4bit(in_features=1536, out_features=1536, bias=False)\n",
       "                  (lora_dropout): ModuleDict(\n",
       "                    (default): Dropout(p=0.1, inplace=False)\n",
       "                  )\n",
       "                  (lora_A): ModuleDict(\n",
       "                    (default): Linear(in_features=1536, out_features=32, bias=False)\n",
       "                  )\n",
       "                  (lora_B): ModuleDict(\n",
       "                    (default): Linear(in_features=32, out_features=1536, bias=False)\n",
       "                  )\n",
       "                  (lora_embedding_A): ParameterDict()\n",
       "                  (lora_embedding_B): ParameterDict()\n",
       "                )\n",
       "                (rotary_emb): Qwen2RotaryEmbedding()\n",
       "              )\n",
       "              (mlp): Qwen2MLP(\n",
       "                (gate_proj): Linear4bit(in_features=1536, out_features=8960, bias=False)\n",
       "                (up_proj): Linear4bit(in_features=1536, out_features=8960, bias=False)\n",
       "                (down_proj): lora.Linear4bit(\n",
       "                  (base_layer): Linear4bit(in_features=8960, out_features=1536, bias=False)\n",
       "                  (lora_dropout): ModuleDict(\n",
       "                    (default): Dropout(p=0.1, inplace=False)\n",
       "                  )\n",
       "                  (lora_A): ModuleDict(\n",
       "                    (default): Linear(in_features=8960, out_features=32, bias=False)\n",
       "                  )\n",
       "                  (lora_B): ModuleDict(\n",
       "                    (default): Linear(in_features=32, out_features=1536, bias=False)\n",
       "                  )\n",
       "                  (lora_embedding_A): ParameterDict()\n",
       "                  (lora_embedding_B): ParameterDict()\n",
       "                )\n",
       "                (act_fn): SiLU()\n",
       "              )\n",
       "              (input_layernorm): Qwen2RMSNorm((1536,), eps=1e-06)\n",
       "              (post_attention_layernorm): Qwen2RMSNorm((1536,), eps=1e-06)\n",
       "            )\n",
       "          )\n",
       "          (norm): Qwen2RMSNorm((1536,), eps=1e-06)\n",
       "        )\n",
       "        (lm_head): Linear4bit(in_features=1536, out_features=151936, bias=False)\n",
       "      )\n",
       "      (custom_text_proj): lora.Linear(\n",
       "        (base_layer): Linear(in_features=1536, out_features=128, bias=True)\n",
       "        (lora_dropout): ModuleDict(\n",
       "          (default): Dropout(p=0.1, inplace=False)\n",
       "        )\n",
       "        (lora_A): ModuleDict(\n",
       "          (default): Linear(in_features=1536, out_features=32, bias=False)\n",
       "        )\n",
       "        (lora_B): ModuleDict(\n",
       "          (default): Linear(in_features=32, out_features=128, bias=False)\n",
       "        )\n",
       "        (lora_embedding_A): ParameterDict()\n",
       "        (lora_embedding_B): ParameterDict()\n",
       "      )\n",
       "    )\n",
       "  )\n",
       ")"
      ]
     },
     "execution_count": 18,
     "metadata": {},
     "output_type": "execute_result"
    }
   ],
   "source": [
    "config.model"
   ]
  },
  {
   "cell_type": "code",
   "execution_count": 14,
   "metadata": {},
   "outputs": [
    {
     "ename": "AttributeError",
     "evalue": "'Qwen2VLProcessor' object has no attribute 'image_seq_length'",
     "output_type": "error",
     "traceback": [
      "\u001b[0;31m---------------------------------------------------------------------------\u001b[0m",
      "\u001b[0;31mAttributeError\u001b[0m                            Traceback (most recent call last)",
      "Cell \u001b[0;32mIn[14], line 1\u001b[0m\n\u001b[0;32m----> 1\u001b[0m \u001b[43mprocessor\u001b[49m\u001b[38;5;241;43m.\u001b[39;49m\u001b[43mimage_seq_length\u001b[49m\n",
      "\u001b[0;31mAttributeError\u001b[0m: 'Qwen2VLProcessor' object has no attribute 'image_seq_length'"
     ]
    }
   ],
   "source": [
    "processor.image_seq_length"
   ]
  },
  {
   "cell_type": "code",
   "execution_count": 7,
   "metadata": {},
   "outputs": [
    {
     "ename": "OutOfMemoryError",
     "evalue": "CUDA out of memory. Tried to allocate 760.00 MiB. GPU 0 has a total capacity of 22.17 GiB of which 152.38 MiB is free. Process 67696 has 22.01 GiB memory in use. Of the allocated memory 21.62 GiB is allocated by PyTorch, and 162.43 MiB is reserved by PyTorch but unallocated. If reserved but unallocated memory is large try setting PYTORCH_CUDA_ALLOC_CONF=expandable_segments:True to avoid fragmentation.  See documentation for Memory Management  (https://pytorch.org/docs/stable/notes/cuda.html#environment-variables)",
     "output_type": "error",
     "traceback": [
      "\u001b[0;31m---------------------------------------------------------------------------\u001b[0m",
      "\u001b[0;31mOutOfMemoryError\u001b[0m                          Traceback (most recent call last)",
      "Cell \u001b[0;32mIn[7], line 1\u001b[0m\n\u001b[0;32m----> 1\u001b[0m \u001b[43mconfig\u001b[49m\u001b[38;5;241;43m.\u001b[39;49m\u001b[43mmodel\u001b[49m\u001b[43m(\u001b[49m\u001b[38;5;241;43m*\u001b[39;49m\u001b[38;5;241;43m*\u001b[39;49m\u001b[43minputs\u001b[49m\u001b[43m)\u001b[49m\n",
      "File \u001b[0;32m/home/zeus/miniconda3/envs/cloudspace/lib/python3.10/site-packages/torch/nn/modules/module.py:1511\u001b[0m, in \u001b[0;36mModule._wrapped_call_impl\u001b[0;34m(self, *args, **kwargs)\u001b[0m\n\u001b[1;32m   1509\u001b[0m     \u001b[38;5;28;01mreturn\u001b[39;00m \u001b[38;5;28mself\u001b[39m\u001b[38;5;241m.\u001b[39m_compiled_call_impl(\u001b[38;5;241m*\u001b[39margs, \u001b[38;5;241m*\u001b[39m\u001b[38;5;241m*\u001b[39mkwargs)  \u001b[38;5;66;03m# type: ignore[misc]\u001b[39;00m\n\u001b[1;32m   1510\u001b[0m \u001b[38;5;28;01melse\u001b[39;00m:\n\u001b[0;32m-> 1511\u001b[0m     \u001b[38;5;28;01mreturn\u001b[39;00m \u001b[38;5;28;43mself\u001b[39;49m\u001b[38;5;241;43m.\u001b[39;49m\u001b[43m_call_impl\u001b[49m\u001b[43m(\u001b[49m\u001b[38;5;241;43m*\u001b[39;49m\u001b[43margs\u001b[49m\u001b[43m,\u001b[49m\u001b[43m \u001b[49m\u001b[38;5;241;43m*\u001b[39;49m\u001b[38;5;241;43m*\u001b[39;49m\u001b[43mkwargs\u001b[49m\u001b[43m)\u001b[49m\n",
      "File \u001b[0;32m/home/zeus/miniconda3/envs/cloudspace/lib/python3.10/site-packages/torch/nn/modules/module.py:1520\u001b[0m, in \u001b[0;36mModule._call_impl\u001b[0;34m(self, *args, **kwargs)\u001b[0m\n\u001b[1;32m   1515\u001b[0m \u001b[38;5;66;03m# If we don't have any hooks, we want to skip the rest of the logic in\u001b[39;00m\n\u001b[1;32m   1516\u001b[0m \u001b[38;5;66;03m# this function, and just call forward.\u001b[39;00m\n\u001b[1;32m   1517\u001b[0m \u001b[38;5;28;01mif\u001b[39;00m \u001b[38;5;129;01mnot\u001b[39;00m (\u001b[38;5;28mself\u001b[39m\u001b[38;5;241m.\u001b[39m_backward_hooks \u001b[38;5;129;01mor\u001b[39;00m \u001b[38;5;28mself\u001b[39m\u001b[38;5;241m.\u001b[39m_backward_pre_hooks \u001b[38;5;129;01mor\u001b[39;00m \u001b[38;5;28mself\u001b[39m\u001b[38;5;241m.\u001b[39m_forward_hooks \u001b[38;5;129;01mor\u001b[39;00m \u001b[38;5;28mself\u001b[39m\u001b[38;5;241m.\u001b[39m_forward_pre_hooks\n\u001b[1;32m   1518\u001b[0m         \u001b[38;5;129;01mor\u001b[39;00m _global_backward_pre_hooks \u001b[38;5;129;01mor\u001b[39;00m _global_backward_hooks\n\u001b[1;32m   1519\u001b[0m         \u001b[38;5;129;01mor\u001b[39;00m _global_forward_hooks \u001b[38;5;129;01mor\u001b[39;00m _global_forward_pre_hooks):\n\u001b[0;32m-> 1520\u001b[0m     \u001b[38;5;28;01mreturn\u001b[39;00m \u001b[43mforward_call\u001b[49m\u001b[43m(\u001b[49m\u001b[38;5;241;43m*\u001b[39;49m\u001b[43margs\u001b[49m\u001b[43m,\u001b[49m\u001b[43m \u001b[49m\u001b[38;5;241;43m*\u001b[39;49m\u001b[38;5;241;43m*\u001b[39;49m\u001b[43mkwargs\u001b[49m\u001b[43m)\u001b[49m\n\u001b[1;32m   1522\u001b[0m \u001b[38;5;28;01mtry\u001b[39;00m:\n\u001b[1;32m   1523\u001b[0m     result \u001b[38;5;241m=\u001b[39m \u001b[38;5;28;01mNone\u001b[39;00m\n",
      "File \u001b[0;32m/home/zeus/miniconda3/envs/cloudspace/lib/python3.10/site-packages/peft/peft_model.py:2317\u001b[0m, in \u001b[0;36mPeftModelForFeatureExtraction.forward\u001b[0;34m(self, input_ids, attention_mask, inputs_embeds, output_attentions, output_hidden_states, return_dict, task_ids, **kwargs)\u001b[0m\n\u001b[1;32m   2315\u001b[0m     \u001b[38;5;28;01mwith\u001b[39;00m \u001b[38;5;28mself\u001b[39m\u001b[38;5;241m.\u001b[39m_enable_peft_forward_hooks(\u001b[38;5;241m*\u001b[39m\u001b[38;5;241m*\u001b[39mkwargs):\n\u001b[1;32m   2316\u001b[0m         kwargs \u001b[38;5;241m=\u001b[39m {k: v \u001b[38;5;28;01mfor\u001b[39;00m k, v \u001b[38;5;129;01min\u001b[39;00m kwargs\u001b[38;5;241m.\u001b[39mitems() \u001b[38;5;28;01mif\u001b[39;00m k \u001b[38;5;129;01mnot\u001b[39;00m \u001b[38;5;129;01min\u001b[39;00m \u001b[38;5;28mself\u001b[39m\u001b[38;5;241m.\u001b[39mspecial_peft_forward_args}\n\u001b[0;32m-> 2317\u001b[0m         \u001b[38;5;28;01mreturn\u001b[39;00m \u001b[38;5;28;43mself\u001b[39;49m\u001b[38;5;241;43m.\u001b[39;49m\u001b[43mbase_model\u001b[49m\u001b[43m(\u001b[49m\n\u001b[1;32m   2318\u001b[0m \u001b[43m            \u001b[49m\u001b[43minput_ids\u001b[49m\u001b[38;5;241;43m=\u001b[39;49m\u001b[43minput_ids\u001b[49m\u001b[43m,\u001b[49m\n\u001b[1;32m   2319\u001b[0m \u001b[43m            \u001b[49m\u001b[43mattention_mask\u001b[49m\u001b[38;5;241;43m=\u001b[39;49m\u001b[43mattention_mask\u001b[49m\u001b[43m,\u001b[49m\n\u001b[1;32m   2320\u001b[0m \u001b[43m            \u001b[49m\u001b[43minputs_embeds\u001b[49m\u001b[38;5;241;43m=\u001b[39;49m\u001b[43minputs_embeds\u001b[49m\u001b[43m,\u001b[49m\n\u001b[1;32m   2321\u001b[0m \u001b[43m            \u001b[49m\u001b[43moutput_attentions\u001b[49m\u001b[38;5;241;43m=\u001b[39;49m\u001b[43moutput_attentions\u001b[49m\u001b[43m,\u001b[49m\n\u001b[1;32m   2322\u001b[0m \u001b[43m            \u001b[49m\u001b[43moutput_hidden_states\u001b[49m\u001b[38;5;241;43m=\u001b[39;49m\u001b[43moutput_hidden_states\u001b[49m\u001b[43m,\u001b[49m\n\u001b[1;32m   2323\u001b[0m \u001b[43m            \u001b[49m\u001b[43mreturn_dict\u001b[49m\u001b[38;5;241;43m=\u001b[39;49m\u001b[43mreturn_dict\u001b[49m\u001b[43m,\u001b[49m\n\u001b[1;32m   2324\u001b[0m \u001b[43m            \u001b[49m\u001b[38;5;241;43m*\u001b[39;49m\u001b[38;5;241;43m*\u001b[39;49m\u001b[43mkwargs\u001b[49m\u001b[43m,\u001b[49m\n\u001b[1;32m   2325\u001b[0m \u001b[43m        \u001b[49m\u001b[43m)\u001b[49m\n\u001b[1;32m   2327\u001b[0m batch_size \u001b[38;5;241m=\u001b[39m _get_batch_size(input_ids, inputs_embeds)\n\u001b[1;32m   2328\u001b[0m \u001b[38;5;28;01mif\u001b[39;00m attention_mask \u001b[38;5;129;01mis\u001b[39;00m \u001b[38;5;129;01mnot\u001b[39;00m \u001b[38;5;28;01mNone\u001b[39;00m:\n\u001b[1;32m   2329\u001b[0m     \u001b[38;5;66;03m# concat prompt attention mask\u001b[39;00m\n",
      "File \u001b[0;32m/home/zeus/miniconda3/envs/cloudspace/lib/python3.10/site-packages/torch/nn/modules/module.py:1511\u001b[0m, in \u001b[0;36mModule._wrapped_call_impl\u001b[0;34m(self, *args, **kwargs)\u001b[0m\n\u001b[1;32m   1509\u001b[0m     \u001b[38;5;28;01mreturn\u001b[39;00m \u001b[38;5;28mself\u001b[39m\u001b[38;5;241m.\u001b[39m_compiled_call_impl(\u001b[38;5;241m*\u001b[39margs, \u001b[38;5;241m*\u001b[39m\u001b[38;5;241m*\u001b[39mkwargs)  \u001b[38;5;66;03m# type: ignore[misc]\u001b[39;00m\n\u001b[1;32m   1510\u001b[0m \u001b[38;5;28;01melse\u001b[39;00m:\n\u001b[0;32m-> 1511\u001b[0m     \u001b[38;5;28;01mreturn\u001b[39;00m \u001b[38;5;28;43mself\u001b[39;49m\u001b[38;5;241;43m.\u001b[39;49m\u001b[43m_call_impl\u001b[49m\u001b[43m(\u001b[49m\u001b[38;5;241;43m*\u001b[39;49m\u001b[43margs\u001b[49m\u001b[43m,\u001b[49m\u001b[43m \u001b[49m\u001b[38;5;241;43m*\u001b[39;49m\u001b[38;5;241;43m*\u001b[39;49m\u001b[43mkwargs\u001b[49m\u001b[43m)\u001b[49m\n",
      "File \u001b[0;32m/home/zeus/miniconda3/envs/cloudspace/lib/python3.10/site-packages/torch/nn/modules/module.py:1520\u001b[0m, in \u001b[0;36mModule._call_impl\u001b[0;34m(self, *args, **kwargs)\u001b[0m\n\u001b[1;32m   1515\u001b[0m \u001b[38;5;66;03m# If we don't have any hooks, we want to skip the rest of the logic in\u001b[39;00m\n\u001b[1;32m   1516\u001b[0m \u001b[38;5;66;03m# this function, and just call forward.\u001b[39;00m\n\u001b[1;32m   1517\u001b[0m \u001b[38;5;28;01mif\u001b[39;00m \u001b[38;5;129;01mnot\u001b[39;00m (\u001b[38;5;28mself\u001b[39m\u001b[38;5;241m.\u001b[39m_backward_hooks \u001b[38;5;129;01mor\u001b[39;00m \u001b[38;5;28mself\u001b[39m\u001b[38;5;241m.\u001b[39m_backward_pre_hooks \u001b[38;5;129;01mor\u001b[39;00m \u001b[38;5;28mself\u001b[39m\u001b[38;5;241m.\u001b[39m_forward_hooks \u001b[38;5;129;01mor\u001b[39;00m \u001b[38;5;28mself\u001b[39m\u001b[38;5;241m.\u001b[39m_forward_pre_hooks\n\u001b[1;32m   1518\u001b[0m         \u001b[38;5;129;01mor\u001b[39;00m _global_backward_pre_hooks \u001b[38;5;129;01mor\u001b[39;00m _global_backward_hooks\n\u001b[1;32m   1519\u001b[0m         \u001b[38;5;129;01mor\u001b[39;00m _global_forward_hooks \u001b[38;5;129;01mor\u001b[39;00m _global_forward_pre_hooks):\n\u001b[0;32m-> 1520\u001b[0m     \u001b[38;5;28;01mreturn\u001b[39;00m \u001b[43mforward_call\u001b[49m\u001b[43m(\u001b[49m\u001b[38;5;241;43m*\u001b[39;49m\u001b[43margs\u001b[49m\u001b[43m,\u001b[49m\u001b[43m \u001b[49m\u001b[38;5;241;43m*\u001b[39;49m\u001b[38;5;241;43m*\u001b[39;49m\u001b[43mkwargs\u001b[49m\u001b[43m)\u001b[49m\n\u001b[1;32m   1522\u001b[0m \u001b[38;5;28;01mtry\u001b[39;00m:\n\u001b[1;32m   1523\u001b[0m     result \u001b[38;5;241m=\u001b[39m \u001b[38;5;28;01mNone\u001b[39;00m\n",
      "File \u001b[0;32m/home/zeus/miniconda3/envs/cloudspace/lib/python3.10/site-packages/peft/tuners/tuners_utils.py:179\u001b[0m, in \u001b[0;36mBaseTuner.forward\u001b[0;34m(self, *args, **kwargs)\u001b[0m\n\u001b[1;32m    178\u001b[0m \u001b[38;5;28;01mdef\u001b[39;00m \u001b[38;5;21mforward\u001b[39m(\u001b[38;5;28mself\u001b[39m, \u001b[38;5;241m*\u001b[39margs: Any, \u001b[38;5;241m*\u001b[39m\u001b[38;5;241m*\u001b[39mkwargs: Any):\n\u001b[0;32m--> 179\u001b[0m     \u001b[38;5;28;01mreturn\u001b[39;00m \u001b[38;5;28;43mself\u001b[39;49m\u001b[38;5;241;43m.\u001b[39;49m\u001b[43mmodel\u001b[49m\u001b[38;5;241;43m.\u001b[39;49m\u001b[43mforward\u001b[49m\u001b[43m(\u001b[49m\u001b[38;5;241;43m*\u001b[39;49m\u001b[43margs\u001b[49m\u001b[43m,\u001b[49m\u001b[43m \u001b[49m\u001b[38;5;241;43m*\u001b[39;49m\u001b[38;5;241;43m*\u001b[39;49m\u001b[43mkwargs\u001b[49m\u001b[43m)\u001b[49m\n",
      "File \u001b[0;32m/home/zeus/miniconda3/envs/cloudspace/lib/python3.10/site-packages/accelerate/hooks.py:170\u001b[0m, in \u001b[0;36madd_hook_to_module.<locals>.new_forward\u001b[0;34m(module, *args, **kwargs)\u001b[0m\n\u001b[1;32m    168\u001b[0m         output \u001b[38;5;241m=\u001b[39m module\u001b[38;5;241m.\u001b[39m_old_forward(\u001b[38;5;241m*\u001b[39margs, \u001b[38;5;241m*\u001b[39m\u001b[38;5;241m*\u001b[39mkwargs)\n\u001b[1;32m    169\u001b[0m \u001b[38;5;28;01melse\u001b[39;00m:\n\u001b[0;32m--> 170\u001b[0m     output \u001b[38;5;241m=\u001b[39m \u001b[43mmodule\u001b[49m\u001b[38;5;241;43m.\u001b[39;49m\u001b[43m_old_forward\u001b[49m\u001b[43m(\u001b[49m\u001b[38;5;241;43m*\u001b[39;49m\u001b[43margs\u001b[49m\u001b[43m,\u001b[49m\u001b[43m \u001b[49m\u001b[38;5;241;43m*\u001b[39;49m\u001b[38;5;241;43m*\u001b[39;49m\u001b[43mkwargs\u001b[49m\u001b[43m)\u001b[49m\n\u001b[1;32m    171\u001b[0m \u001b[38;5;28;01mreturn\u001b[39;00m module\u001b[38;5;241m.\u001b[39m_hf_hook\u001b[38;5;241m.\u001b[39mpost_forward(module, output)\n",
      "File \u001b[0;32m~/colphi3/colpali_engine/models/late_interaction/colqwen_architecture.py:29\u001b[0m, in \u001b[0;36mColQwen.forward\u001b[0;34m(self, *args, **kwargs)\u001b[0m\n\u001b[1;32m     25\u001b[0m \u001b[38;5;28;01mdef\u001b[39;00m \u001b[38;5;21mforward\u001b[39m(\u001b[38;5;28mself\u001b[39m, \u001b[38;5;241m*\u001b[39margs, \u001b[38;5;241m*\u001b[39m\u001b[38;5;241m*\u001b[39mkwargs) \u001b[38;5;241m-\u001b[39m\u001b[38;5;241m>\u001b[39m torch\u001b[38;5;241m.\u001b[39mTensor:\n\u001b[1;32m     26\u001b[0m     \u001b[38;5;66;03m# Delete output_hidden_states from kwargs\u001b[39;00m\n\u001b[1;32m     27\u001b[0m     kwargs\u001b[38;5;241m.\u001b[39mpop(\u001b[38;5;124m\"\u001b[39m\u001b[38;5;124moutput_hidden_states\u001b[39m\u001b[38;5;124m\"\u001b[39m, \u001b[38;5;28;01mNone\u001b[39;00m)\n\u001b[0;32m---> 29\u001b[0m     outputs \u001b[38;5;241m=\u001b[39m \u001b[38;5;28;43mself\u001b[39;49m\u001b[38;5;241;43m.\u001b[39;49m\u001b[43mmodel\u001b[49m\u001b[43m(\u001b[49m\u001b[38;5;241;43m*\u001b[39;49m\u001b[43margs\u001b[49m\u001b[43m,\u001b[49m\u001b[43m \u001b[49m\u001b[43moutput_hidden_states\u001b[49m\u001b[38;5;241;43m=\u001b[39;49m\u001b[38;5;28;43;01mTrue\u001b[39;49;00m\u001b[43m,\u001b[49m\u001b[43m \u001b[49m\u001b[38;5;241;43m*\u001b[39;49m\u001b[38;5;241;43m*\u001b[39;49m\u001b[43mkwargs\u001b[49m\u001b[43m)\u001b[49m  \u001b[38;5;66;03m# (batch_size, sequence_length, hidden_size)\u001b[39;00m\n\u001b[1;32m     30\u001b[0m     last_hidden_states \u001b[38;5;241m=\u001b[39m outputs\u001b[38;5;241m.\u001b[39mhidden_states[\u001b[38;5;241m-\u001b[39m\u001b[38;5;241m1\u001b[39m]  \u001b[38;5;66;03m# (batch_size, sequence_length, hidden_size)\u001b[39;00m\n\u001b[1;32m     31\u001b[0m     proj \u001b[38;5;241m=\u001b[39m \u001b[38;5;28mself\u001b[39m\u001b[38;5;241m.\u001b[39mcustom_text_proj(last_hidden_states)  \u001b[38;5;66;03m# (batch_size, sequence_length, dim)\u001b[39;00m\n",
      "File \u001b[0;32m/home/zeus/miniconda3/envs/cloudspace/lib/python3.10/site-packages/torch/nn/modules/module.py:1511\u001b[0m, in \u001b[0;36mModule._wrapped_call_impl\u001b[0;34m(self, *args, **kwargs)\u001b[0m\n\u001b[1;32m   1509\u001b[0m     \u001b[38;5;28;01mreturn\u001b[39;00m \u001b[38;5;28mself\u001b[39m\u001b[38;5;241m.\u001b[39m_compiled_call_impl(\u001b[38;5;241m*\u001b[39margs, \u001b[38;5;241m*\u001b[39m\u001b[38;5;241m*\u001b[39mkwargs)  \u001b[38;5;66;03m# type: ignore[misc]\u001b[39;00m\n\u001b[1;32m   1510\u001b[0m \u001b[38;5;28;01melse\u001b[39;00m:\n\u001b[0;32m-> 1511\u001b[0m     \u001b[38;5;28;01mreturn\u001b[39;00m \u001b[38;5;28;43mself\u001b[39;49m\u001b[38;5;241;43m.\u001b[39;49m\u001b[43m_call_impl\u001b[49m\u001b[43m(\u001b[49m\u001b[38;5;241;43m*\u001b[39;49m\u001b[43margs\u001b[49m\u001b[43m,\u001b[49m\u001b[43m \u001b[49m\u001b[38;5;241;43m*\u001b[39;49m\u001b[38;5;241;43m*\u001b[39;49m\u001b[43mkwargs\u001b[49m\u001b[43m)\u001b[49m\n",
      "File \u001b[0;32m/home/zeus/miniconda3/envs/cloudspace/lib/python3.10/site-packages/torch/nn/modules/module.py:1520\u001b[0m, in \u001b[0;36mModule._call_impl\u001b[0;34m(self, *args, **kwargs)\u001b[0m\n\u001b[1;32m   1515\u001b[0m \u001b[38;5;66;03m# If we don't have any hooks, we want to skip the rest of the logic in\u001b[39;00m\n\u001b[1;32m   1516\u001b[0m \u001b[38;5;66;03m# this function, and just call forward.\u001b[39;00m\n\u001b[1;32m   1517\u001b[0m \u001b[38;5;28;01mif\u001b[39;00m \u001b[38;5;129;01mnot\u001b[39;00m (\u001b[38;5;28mself\u001b[39m\u001b[38;5;241m.\u001b[39m_backward_hooks \u001b[38;5;129;01mor\u001b[39;00m \u001b[38;5;28mself\u001b[39m\u001b[38;5;241m.\u001b[39m_backward_pre_hooks \u001b[38;5;129;01mor\u001b[39;00m \u001b[38;5;28mself\u001b[39m\u001b[38;5;241m.\u001b[39m_forward_hooks \u001b[38;5;129;01mor\u001b[39;00m \u001b[38;5;28mself\u001b[39m\u001b[38;5;241m.\u001b[39m_forward_pre_hooks\n\u001b[1;32m   1518\u001b[0m         \u001b[38;5;129;01mor\u001b[39;00m _global_backward_pre_hooks \u001b[38;5;129;01mor\u001b[39;00m _global_backward_hooks\n\u001b[1;32m   1519\u001b[0m         \u001b[38;5;129;01mor\u001b[39;00m _global_forward_hooks \u001b[38;5;129;01mor\u001b[39;00m _global_forward_pre_hooks):\n\u001b[0;32m-> 1520\u001b[0m     \u001b[38;5;28;01mreturn\u001b[39;00m \u001b[43mforward_call\u001b[49m\u001b[43m(\u001b[49m\u001b[38;5;241;43m*\u001b[39;49m\u001b[43margs\u001b[49m\u001b[43m,\u001b[49m\u001b[43m \u001b[49m\u001b[38;5;241;43m*\u001b[39;49m\u001b[38;5;241;43m*\u001b[39;49m\u001b[43mkwargs\u001b[49m\u001b[43m)\u001b[49m\n\u001b[1;32m   1522\u001b[0m \u001b[38;5;28;01mtry\u001b[39;00m:\n\u001b[1;32m   1523\u001b[0m     result \u001b[38;5;241m=\u001b[39m \u001b[38;5;28;01mNone\u001b[39;00m\n",
      "File \u001b[0;32m/home/zeus/miniconda3/envs/cloudspace/lib/python3.10/site-packages/accelerate/hooks.py:170\u001b[0m, in \u001b[0;36madd_hook_to_module.<locals>.new_forward\u001b[0;34m(module, *args, **kwargs)\u001b[0m\n\u001b[1;32m    168\u001b[0m         output \u001b[38;5;241m=\u001b[39m module\u001b[38;5;241m.\u001b[39m_old_forward(\u001b[38;5;241m*\u001b[39margs, \u001b[38;5;241m*\u001b[39m\u001b[38;5;241m*\u001b[39mkwargs)\n\u001b[1;32m    169\u001b[0m \u001b[38;5;28;01melse\u001b[39;00m:\n\u001b[0;32m--> 170\u001b[0m     output \u001b[38;5;241m=\u001b[39m \u001b[43mmodule\u001b[49m\u001b[38;5;241;43m.\u001b[39;49m\u001b[43m_old_forward\u001b[49m\u001b[43m(\u001b[49m\u001b[38;5;241;43m*\u001b[39;49m\u001b[43margs\u001b[49m\u001b[43m,\u001b[49m\u001b[43m \u001b[49m\u001b[38;5;241;43m*\u001b[39;49m\u001b[38;5;241;43m*\u001b[39;49m\u001b[43mkwargs\u001b[49m\u001b[43m)\u001b[49m\n\u001b[1;32m    171\u001b[0m \u001b[38;5;28;01mreturn\u001b[39;00m module\u001b[38;5;241m.\u001b[39m_hf_hook\u001b[38;5;241m.\u001b[39mpost_forward(module, output)\n",
      "File \u001b[0;32m/home/zeus/miniconda3/envs/cloudspace/lib/python3.10/site-packages/transformers/models/qwen2_vl/modeling_qwen2_vl.py:1594\u001b[0m, in \u001b[0;36mQwen2VLForConditionalGeneration.forward\u001b[0;34m(self, input_ids, attention_mask, position_ids, past_key_values, inputs_embeds, labels, use_cache, output_attentions, output_hidden_states, return_dict, pixel_values, pixel_values_videos, image_grid_thw, video_grid_thw, rope_deltas)\u001b[0m\n\u001b[1;32m   1592\u001b[0m \u001b[38;5;28;01mif\u001b[39;00m pixel_values \u001b[38;5;129;01mis\u001b[39;00m \u001b[38;5;129;01mnot\u001b[39;00m \u001b[38;5;28;01mNone\u001b[39;00m:\n\u001b[1;32m   1593\u001b[0m     pixel_values \u001b[38;5;241m=\u001b[39m pixel_values\u001b[38;5;241m.\u001b[39mtype(\u001b[38;5;28mself\u001b[39m\u001b[38;5;241m.\u001b[39mvisual\u001b[38;5;241m.\u001b[39mget_dtype())\n\u001b[0;32m-> 1594\u001b[0m     image_embeds \u001b[38;5;241m=\u001b[39m \u001b[38;5;28;43mself\u001b[39;49m\u001b[38;5;241;43m.\u001b[39;49m\u001b[43mvisual\u001b[49m\u001b[43m(\u001b[49m\u001b[43mpixel_values\u001b[49m\u001b[43m,\u001b[49m\u001b[43m \u001b[49m\u001b[43mgrid_thw\u001b[49m\u001b[38;5;241;43m=\u001b[39;49m\u001b[43mimage_grid_thw\u001b[49m\u001b[43m)\u001b[49m\u001b[38;5;241m.\u001b[39mto(inputs_embeds\u001b[38;5;241m.\u001b[39mdevice)\n\u001b[1;32m   1595\u001b[0m     image_mask \u001b[38;5;241m=\u001b[39m input_ids \u001b[38;5;241m==\u001b[39m \u001b[38;5;28mself\u001b[39m\u001b[38;5;241m.\u001b[39mconfig\u001b[38;5;241m.\u001b[39mimage_token_id\n\u001b[1;32m   1596\u001b[0m     \u001b[38;5;28;01mif\u001b[39;00m \u001b[38;5;28mself\u001b[39m\u001b[38;5;241m.\u001b[39mtraining:\n",
      "File \u001b[0;32m/home/zeus/miniconda3/envs/cloudspace/lib/python3.10/site-packages/torch/nn/modules/module.py:1511\u001b[0m, in \u001b[0;36mModule._wrapped_call_impl\u001b[0;34m(self, *args, **kwargs)\u001b[0m\n\u001b[1;32m   1509\u001b[0m     \u001b[38;5;28;01mreturn\u001b[39;00m \u001b[38;5;28mself\u001b[39m\u001b[38;5;241m.\u001b[39m_compiled_call_impl(\u001b[38;5;241m*\u001b[39margs, \u001b[38;5;241m*\u001b[39m\u001b[38;5;241m*\u001b[39mkwargs)  \u001b[38;5;66;03m# type: ignore[misc]\u001b[39;00m\n\u001b[1;32m   1510\u001b[0m \u001b[38;5;28;01melse\u001b[39;00m:\n\u001b[0;32m-> 1511\u001b[0m     \u001b[38;5;28;01mreturn\u001b[39;00m \u001b[38;5;28;43mself\u001b[39;49m\u001b[38;5;241;43m.\u001b[39;49m\u001b[43m_call_impl\u001b[49m\u001b[43m(\u001b[49m\u001b[38;5;241;43m*\u001b[39;49m\u001b[43margs\u001b[49m\u001b[43m,\u001b[49m\u001b[43m \u001b[49m\u001b[38;5;241;43m*\u001b[39;49m\u001b[38;5;241;43m*\u001b[39;49m\u001b[43mkwargs\u001b[49m\u001b[43m)\u001b[49m\n",
      "File \u001b[0;32m/home/zeus/miniconda3/envs/cloudspace/lib/python3.10/site-packages/torch/nn/modules/module.py:1520\u001b[0m, in \u001b[0;36mModule._call_impl\u001b[0;34m(self, *args, **kwargs)\u001b[0m\n\u001b[1;32m   1515\u001b[0m \u001b[38;5;66;03m# If we don't have any hooks, we want to skip the rest of the logic in\u001b[39;00m\n\u001b[1;32m   1516\u001b[0m \u001b[38;5;66;03m# this function, and just call forward.\u001b[39;00m\n\u001b[1;32m   1517\u001b[0m \u001b[38;5;28;01mif\u001b[39;00m \u001b[38;5;129;01mnot\u001b[39;00m (\u001b[38;5;28mself\u001b[39m\u001b[38;5;241m.\u001b[39m_backward_hooks \u001b[38;5;129;01mor\u001b[39;00m \u001b[38;5;28mself\u001b[39m\u001b[38;5;241m.\u001b[39m_backward_pre_hooks \u001b[38;5;129;01mor\u001b[39;00m \u001b[38;5;28mself\u001b[39m\u001b[38;5;241m.\u001b[39m_forward_hooks \u001b[38;5;129;01mor\u001b[39;00m \u001b[38;5;28mself\u001b[39m\u001b[38;5;241m.\u001b[39m_forward_pre_hooks\n\u001b[1;32m   1518\u001b[0m         \u001b[38;5;129;01mor\u001b[39;00m _global_backward_pre_hooks \u001b[38;5;129;01mor\u001b[39;00m _global_backward_hooks\n\u001b[1;32m   1519\u001b[0m         \u001b[38;5;129;01mor\u001b[39;00m _global_forward_hooks \u001b[38;5;129;01mor\u001b[39;00m _global_forward_pre_hooks):\n\u001b[0;32m-> 1520\u001b[0m     \u001b[38;5;28;01mreturn\u001b[39;00m \u001b[43mforward_call\u001b[49m\u001b[43m(\u001b[49m\u001b[38;5;241;43m*\u001b[39;49m\u001b[43margs\u001b[49m\u001b[43m,\u001b[49m\u001b[43m \u001b[49m\u001b[38;5;241;43m*\u001b[39;49m\u001b[38;5;241;43m*\u001b[39;49m\u001b[43mkwargs\u001b[49m\u001b[43m)\u001b[49m\n\u001b[1;32m   1522\u001b[0m \u001b[38;5;28;01mtry\u001b[39;00m:\n\u001b[1;32m   1523\u001b[0m     result \u001b[38;5;241m=\u001b[39m \u001b[38;5;28;01mNone\u001b[39;00m\n",
      "File \u001b[0;32m/home/zeus/miniconda3/envs/cloudspace/lib/python3.10/site-packages/accelerate/hooks.py:170\u001b[0m, in \u001b[0;36madd_hook_to_module.<locals>.new_forward\u001b[0;34m(module, *args, **kwargs)\u001b[0m\n\u001b[1;32m    168\u001b[0m         output \u001b[38;5;241m=\u001b[39m module\u001b[38;5;241m.\u001b[39m_old_forward(\u001b[38;5;241m*\u001b[39margs, \u001b[38;5;241m*\u001b[39m\u001b[38;5;241m*\u001b[39mkwargs)\n\u001b[1;32m    169\u001b[0m \u001b[38;5;28;01melse\u001b[39;00m:\n\u001b[0;32m--> 170\u001b[0m     output \u001b[38;5;241m=\u001b[39m \u001b[43mmodule\u001b[49m\u001b[38;5;241;43m.\u001b[39;49m\u001b[43m_old_forward\u001b[49m\u001b[43m(\u001b[49m\u001b[38;5;241;43m*\u001b[39;49m\u001b[43margs\u001b[49m\u001b[43m,\u001b[49m\u001b[43m \u001b[49m\u001b[38;5;241;43m*\u001b[39;49m\u001b[38;5;241;43m*\u001b[39;49m\u001b[43mkwargs\u001b[49m\u001b[43m)\u001b[49m\n\u001b[1;32m    171\u001b[0m \u001b[38;5;28;01mreturn\u001b[39;00m module\u001b[38;5;241m.\u001b[39m_hf_hook\u001b[38;5;241m.\u001b[39mpost_forward(module, output)\n",
      "File \u001b[0;32m/home/zeus/miniconda3/envs/cloudspace/lib/python3.10/site-packages/transformers/models/qwen2_vl/modeling_qwen2_vl.py:1040\u001b[0m, in \u001b[0;36mQwen2VisionTransformerPretrainedModel.forward\u001b[0;34m(self, hidden_states, grid_thw)\u001b[0m\n\u001b[1;32m   1037\u001b[0m cu_seqlens \u001b[38;5;241m=\u001b[39m F\u001b[38;5;241m.\u001b[39mpad(cu_seqlens, (\u001b[38;5;241m1\u001b[39m, \u001b[38;5;241m0\u001b[39m), value\u001b[38;5;241m=\u001b[39m\u001b[38;5;241m0\u001b[39m)\n\u001b[1;32m   1039\u001b[0m \u001b[38;5;28;01mfor\u001b[39;00m blk \u001b[38;5;129;01min\u001b[39;00m \u001b[38;5;28mself\u001b[39m\u001b[38;5;241m.\u001b[39mblocks:\n\u001b[0;32m-> 1040\u001b[0m     hidden_states \u001b[38;5;241m=\u001b[39m \u001b[43mblk\u001b[49m\u001b[43m(\u001b[49m\u001b[43mhidden_states\u001b[49m\u001b[43m,\u001b[49m\u001b[43m \u001b[49m\u001b[43mcu_seqlens\u001b[49m\u001b[38;5;241;43m=\u001b[39;49m\u001b[43mcu_seqlens\u001b[49m\u001b[43m,\u001b[49m\u001b[43m \u001b[49m\u001b[43mrotary_pos_emb\u001b[49m\u001b[38;5;241;43m=\u001b[39;49m\u001b[43mrotary_pos_emb\u001b[49m\u001b[43m)\u001b[49m\n\u001b[1;32m   1042\u001b[0m \u001b[38;5;28;01mreturn\u001b[39;00m \u001b[38;5;28mself\u001b[39m\u001b[38;5;241m.\u001b[39mmerger(hidden_states)\n",
      "File \u001b[0;32m/home/zeus/miniconda3/envs/cloudspace/lib/python3.10/site-packages/torch/nn/modules/module.py:1511\u001b[0m, in \u001b[0;36mModule._wrapped_call_impl\u001b[0;34m(self, *args, **kwargs)\u001b[0m\n\u001b[1;32m   1509\u001b[0m     \u001b[38;5;28;01mreturn\u001b[39;00m \u001b[38;5;28mself\u001b[39m\u001b[38;5;241m.\u001b[39m_compiled_call_impl(\u001b[38;5;241m*\u001b[39margs, \u001b[38;5;241m*\u001b[39m\u001b[38;5;241m*\u001b[39mkwargs)  \u001b[38;5;66;03m# type: ignore[misc]\u001b[39;00m\n\u001b[1;32m   1510\u001b[0m \u001b[38;5;28;01melse\u001b[39;00m:\n\u001b[0;32m-> 1511\u001b[0m     \u001b[38;5;28;01mreturn\u001b[39;00m \u001b[38;5;28;43mself\u001b[39;49m\u001b[38;5;241;43m.\u001b[39;49m\u001b[43m_call_impl\u001b[49m\u001b[43m(\u001b[49m\u001b[38;5;241;43m*\u001b[39;49m\u001b[43margs\u001b[49m\u001b[43m,\u001b[49m\u001b[43m \u001b[49m\u001b[38;5;241;43m*\u001b[39;49m\u001b[38;5;241;43m*\u001b[39;49m\u001b[43mkwargs\u001b[49m\u001b[43m)\u001b[49m\n",
      "File \u001b[0;32m/home/zeus/miniconda3/envs/cloudspace/lib/python3.10/site-packages/torch/nn/modules/module.py:1520\u001b[0m, in \u001b[0;36mModule._call_impl\u001b[0;34m(self, *args, **kwargs)\u001b[0m\n\u001b[1;32m   1515\u001b[0m \u001b[38;5;66;03m# If we don't have any hooks, we want to skip the rest of the logic in\u001b[39;00m\n\u001b[1;32m   1516\u001b[0m \u001b[38;5;66;03m# this function, and just call forward.\u001b[39;00m\n\u001b[1;32m   1517\u001b[0m \u001b[38;5;28;01mif\u001b[39;00m \u001b[38;5;129;01mnot\u001b[39;00m (\u001b[38;5;28mself\u001b[39m\u001b[38;5;241m.\u001b[39m_backward_hooks \u001b[38;5;129;01mor\u001b[39;00m \u001b[38;5;28mself\u001b[39m\u001b[38;5;241m.\u001b[39m_backward_pre_hooks \u001b[38;5;129;01mor\u001b[39;00m \u001b[38;5;28mself\u001b[39m\u001b[38;5;241m.\u001b[39m_forward_hooks \u001b[38;5;129;01mor\u001b[39;00m \u001b[38;5;28mself\u001b[39m\u001b[38;5;241m.\u001b[39m_forward_pre_hooks\n\u001b[1;32m   1518\u001b[0m         \u001b[38;5;129;01mor\u001b[39;00m _global_backward_pre_hooks \u001b[38;5;129;01mor\u001b[39;00m _global_backward_hooks\n\u001b[1;32m   1519\u001b[0m         \u001b[38;5;129;01mor\u001b[39;00m _global_forward_hooks \u001b[38;5;129;01mor\u001b[39;00m _global_forward_pre_hooks):\n\u001b[0;32m-> 1520\u001b[0m     \u001b[38;5;28;01mreturn\u001b[39;00m \u001b[43mforward_call\u001b[49m\u001b[43m(\u001b[49m\u001b[38;5;241;43m*\u001b[39;49m\u001b[43margs\u001b[49m\u001b[43m,\u001b[49m\u001b[43m \u001b[49m\u001b[38;5;241;43m*\u001b[39;49m\u001b[38;5;241;43m*\u001b[39;49m\u001b[43mkwargs\u001b[49m\u001b[43m)\u001b[49m\n\u001b[1;32m   1522\u001b[0m \u001b[38;5;28;01mtry\u001b[39;00m:\n\u001b[1;32m   1523\u001b[0m     result \u001b[38;5;241m=\u001b[39m \u001b[38;5;28;01mNone\u001b[39;00m\n",
      "File \u001b[0;32m/home/zeus/miniconda3/envs/cloudspace/lib/python3.10/site-packages/accelerate/hooks.py:170\u001b[0m, in \u001b[0;36madd_hook_to_module.<locals>.new_forward\u001b[0;34m(module, *args, **kwargs)\u001b[0m\n\u001b[1;32m    168\u001b[0m         output \u001b[38;5;241m=\u001b[39m module\u001b[38;5;241m.\u001b[39m_old_forward(\u001b[38;5;241m*\u001b[39margs, \u001b[38;5;241m*\u001b[39m\u001b[38;5;241m*\u001b[39mkwargs)\n\u001b[1;32m    169\u001b[0m \u001b[38;5;28;01melse\u001b[39;00m:\n\u001b[0;32m--> 170\u001b[0m     output \u001b[38;5;241m=\u001b[39m \u001b[43mmodule\u001b[49m\u001b[38;5;241;43m.\u001b[39;49m\u001b[43m_old_forward\u001b[49m\u001b[43m(\u001b[49m\u001b[38;5;241;43m*\u001b[39;49m\u001b[43margs\u001b[49m\u001b[43m,\u001b[49m\u001b[43m \u001b[49m\u001b[38;5;241;43m*\u001b[39;49m\u001b[38;5;241;43m*\u001b[39;49m\u001b[43mkwargs\u001b[49m\u001b[43m)\u001b[49m\n\u001b[1;32m    171\u001b[0m \u001b[38;5;28;01mreturn\u001b[39;00m module\u001b[38;5;241m.\u001b[39m_hf_hook\u001b[38;5;241m.\u001b[39mpost_forward(module, output)\n",
      "File \u001b[0;32m/home/zeus/miniconda3/envs/cloudspace/lib/python3.10/site-packages/transformers/models/qwen2_vl/modeling_qwen2_vl.py:377\u001b[0m, in \u001b[0;36mQwen2VLVisionBlock.forward\u001b[0;34m(self, hidden_states, cu_seqlens, rotary_pos_emb)\u001b[0m\n\u001b[1;32m    376\u001b[0m \u001b[38;5;28;01mdef\u001b[39;00m \u001b[38;5;21mforward\u001b[39m(\u001b[38;5;28mself\u001b[39m, hidden_states, cu_seqlens, rotary_pos_emb) \u001b[38;5;241m-\u001b[39m\u001b[38;5;241m>\u001b[39m torch\u001b[38;5;241m.\u001b[39mTensor:\n\u001b[0;32m--> 377\u001b[0m     hidden_states \u001b[38;5;241m=\u001b[39m hidden_states \u001b[38;5;241m+\u001b[39m \u001b[38;5;28;43mself\u001b[39;49m\u001b[38;5;241;43m.\u001b[39;49m\u001b[43mattn\u001b[49m\u001b[43m(\u001b[49m\n\u001b[1;32m    378\u001b[0m \u001b[43m        \u001b[49m\u001b[38;5;28;43mself\u001b[39;49m\u001b[38;5;241;43m.\u001b[39;49m\u001b[43mnorm1\u001b[49m\u001b[43m(\u001b[49m\u001b[43mhidden_states\u001b[49m\u001b[43m)\u001b[49m\u001b[43m,\u001b[49m\u001b[43m \u001b[49m\u001b[43mcu_seqlens\u001b[49m\u001b[38;5;241;43m=\u001b[39;49m\u001b[43mcu_seqlens\u001b[49m\u001b[43m,\u001b[49m\u001b[43m \u001b[49m\u001b[43mrotary_pos_emb\u001b[49m\u001b[38;5;241;43m=\u001b[39;49m\u001b[43mrotary_pos_emb\u001b[49m\n\u001b[1;32m    379\u001b[0m \u001b[43m    \u001b[49m\u001b[43m)\u001b[49m\n\u001b[1;32m    380\u001b[0m     hidden_states \u001b[38;5;241m=\u001b[39m hidden_states \u001b[38;5;241m+\u001b[39m \u001b[38;5;28mself\u001b[39m\u001b[38;5;241m.\u001b[39mmlp(\u001b[38;5;28mself\u001b[39m\u001b[38;5;241m.\u001b[39mnorm2(hidden_states))\n\u001b[1;32m    381\u001b[0m     \u001b[38;5;28;01mreturn\u001b[39;00m hidden_states\n",
      "File \u001b[0;32m/home/zeus/miniconda3/envs/cloudspace/lib/python3.10/site-packages/torch/nn/modules/module.py:1511\u001b[0m, in \u001b[0;36mModule._wrapped_call_impl\u001b[0;34m(self, *args, **kwargs)\u001b[0m\n\u001b[1;32m   1509\u001b[0m     \u001b[38;5;28;01mreturn\u001b[39;00m \u001b[38;5;28mself\u001b[39m\u001b[38;5;241m.\u001b[39m_compiled_call_impl(\u001b[38;5;241m*\u001b[39margs, \u001b[38;5;241m*\u001b[39m\u001b[38;5;241m*\u001b[39mkwargs)  \u001b[38;5;66;03m# type: ignore[misc]\u001b[39;00m\n\u001b[1;32m   1510\u001b[0m \u001b[38;5;28;01melse\u001b[39;00m:\n\u001b[0;32m-> 1511\u001b[0m     \u001b[38;5;28;01mreturn\u001b[39;00m \u001b[38;5;28;43mself\u001b[39;49m\u001b[38;5;241;43m.\u001b[39;49m\u001b[43m_call_impl\u001b[49m\u001b[43m(\u001b[49m\u001b[38;5;241;43m*\u001b[39;49m\u001b[43margs\u001b[49m\u001b[43m,\u001b[49m\u001b[43m \u001b[49m\u001b[38;5;241;43m*\u001b[39;49m\u001b[38;5;241;43m*\u001b[39;49m\u001b[43mkwargs\u001b[49m\u001b[43m)\u001b[49m\n",
      "File \u001b[0;32m/home/zeus/miniconda3/envs/cloudspace/lib/python3.10/site-packages/torch/nn/modules/module.py:1520\u001b[0m, in \u001b[0;36mModule._call_impl\u001b[0;34m(self, *args, **kwargs)\u001b[0m\n\u001b[1;32m   1515\u001b[0m \u001b[38;5;66;03m# If we don't have any hooks, we want to skip the rest of the logic in\u001b[39;00m\n\u001b[1;32m   1516\u001b[0m \u001b[38;5;66;03m# this function, and just call forward.\u001b[39;00m\n\u001b[1;32m   1517\u001b[0m \u001b[38;5;28;01mif\u001b[39;00m \u001b[38;5;129;01mnot\u001b[39;00m (\u001b[38;5;28mself\u001b[39m\u001b[38;5;241m.\u001b[39m_backward_hooks \u001b[38;5;129;01mor\u001b[39;00m \u001b[38;5;28mself\u001b[39m\u001b[38;5;241m.\u001b[39m_backward_pre_hooks \u001b[38;5;129;01mor\u001b[39;00m \u001b[38;5;28mself\u001b[39m\u001b[38;5;241m.\u001b[39m_forward_hooks \u001b[38;5;129;01mor\u001b[39;00m \u001b[38;5;28mself\u001b[39m\u001b[38;5;241m.\u001b[39m_forward_pre_hooks\n\u001b[1;32m   1518\u001b[0m         \u001b[38;5;129;01mor\u001b[39;00m _global_backward_pre_hooks \u001b[38;5;129;01mor\u001b[39;00m _global_backward_hooks\n\u001b[1;32m   1519\u001b[0m         \u001b[38;5;129;01mor\u001b[39;00m _global_forward_hooks \u001b[38;5;129;01mor\u001b[39;00m _global_forward_pre_hooks):\n\u001b[0;32m-> 1520\u001b[0m     \u001b[38;5;28;01mreturn\u001b[39;00m \u001b[43mforward_call\u001b[49m\u001b[43m(\u001b[49m\u001b[38;5;241;43m*\u001b[39;49m\u001b[43margs\u001b[49m\u001b[43m,\u001b[49m\u001b[43m \u001b[49m\u001b[38;5;241;43m*\u001b[39;49m\u001b[38;5;241;43m*\u001b[39;49m\u001b[43mkwargs\u001b[49m\u001b[43m)\u001b[49m\n\u001b[1;32m   1522\u001b[0m \u001b[38;5;28;01mtry\u001b[39;00m:\n\u001b[1;32m   1523\u001b[0m     result \u001b[38;5;241m=\u001b[39m \u001b[38;5;28;01mNone\u001b[39;00m\n",
      "File \u001b[0;32m/home/zeus/miniconda3/envs/cloudspace/lib/python3.10/site-packages/accelerate/hooks.py:170\u001b[0m, in \u001b[0;36madd_hook_to_module.<locals>.new_forward\u001b[0;34m(module, *args, **kwargs)\u001b[0m\n\u001b[1;32m    168\u001b[0m         output \u001b[38;5;241m=\u001b[39m module\u001b[38;5;241m.\u001b[39m_old_forward(\u001b[38;5;241m*\u001b[39margs, \u001b[38;5;241m*\u001b[39m\u001b[38;5;241m*\u001b[39mkwargs)\n\u001b[1;32m    169\u001b[0m \u001b[38;5;28;01melse\u001b[39;00m:\n\u001b[0;32m--> 170\u001b[0m     output \u001b[38;5;241m=\u001b[39m \u001b[43mmodule\u001b[49m\u001b[38;5;241;43m.\u001b[39;49m\u001b[43m_old_forward\u001b[49m\u001b[43m(\u001b[49m\u001b[38;5;241;43m*\u001b[39;49m\u001b[43margs\u001b[49m\u001b[43m,\u001b[49m\u001b[43m \u001b[49m\u001b[38;5;241;43m*\u001b[39;49m\u001b[38;5;241;43m*\u001b[39;49m\u001b[43mkwargs\u001b[49m\u001b[43m)\u001b[49m\n\u001b[1;32m    171\u001b[0m \u001b[38;5;28;01mreturn\u001b[39;00m module\u001b[38;5;241m.\u001b[39m_hf_hook\u001b[38;5;241m.\u001b[39mpost_forward(module, output)\n",
      "File \u001b[0;32m/home/zeus/miniconda3/envs/cloudspace/lib/python3.10/site-packages/transformers/models/qwen2_vl/modeling_qwen2_vl.py:350\u001b[0m, in \u001b[0;36mVisionSdpaAttention.forward\u001b[0;34m(self, hidden_states, cu_seqlens, rotary_pos_emb)\u001b[0m\n\u001b[1;32m    348\u001b[0m k \u001b[38;5;241m=\u001b[39m k\u001b[38;5;241m.\u001b[39mtranspose(\u001b[38;5;241m0\u001b[39m, \u001b[38;5;241m1\u001b[39m)\n\u001b[1;32m    349\u001b[0m v \u001b[38;5;241m=\u001b[39m v\u001b[38;5;241m.\u001b[39mtranspose(\u001b[38;5;241m0\u001b[39m, \u001b[38;5;241m1\u001b[39m)\n\u001b[0;32m--> 350\u001b[0m attn_output \u001b[38;5;241m=\u001b[39m \u001b[43mF\u001b[49m\u001b[38;5;241;43m.\u001b[39;49m\u001b[43mscaled_dot_product_attention\u001b[49m\u001b[43m(\u001b[49m\u001b[43mq\u001b[49m\u001b[43m,\u001b[49m\u001b[43m \u001b[49m\u001b[43mk\u001b[49m\u001b[43m,\u001b[49m\u001b[43m \u001b[49m\u001b[43mv\u001b[49m\u001b[43m,\u001b[49m\u001b[43m \u001b[49m\u001b[43mattention_mask\u001b[49m\u001b[43m,\u001b[49m\u001b[43m \u001b[49m\u001b[43mdropout_p\u001b[49m\u001b[38;5;241;43m=\u001b[39;49m\u001b[38;5;241;43m0.0\u001b[39;49m\u001b[43m)\u001b[49m\n\u001b[1;32m    351\u001b[0m attn_output \u001b[38;5;241m=\u001b[39m attn_output\u001b[38;5;241m.\u001b[39mtranspose(\u001b[38;5;241m0\u001b[39m, \u001b[38;5;241m1\u001b[39m)\n\u001b[1;32m    352\u001b[0m attn_output \u001b[38;5;241m=\u001b[39m attn_output\u001b[38;5;241m.\u001b[39mreshape(seq_length, \u001b[38;5;241m-\u001b[39m\u001b[38;5;241m1\u001b[39m)\n",
      "\u001b[0;31mOutOfMemoryError\u001b[0m: CUDA out of memory. Tried to allocate 760.00 MiB. GPU 0 has a total capacity of 22.17 GiB of which 152.38 MiB is free. Process 67696 has 22.01 GiB memory in use. Of the allocated memory 21.62 GiB is allocated by PyTorch, and 162.43 MiB is reserved by PyTorch but unallocated. If reserved but unallocated memory is large try setting PYTORCH_CUDA_ALLOC_CONF=expandable_segments:True to avoid fragmentation.  See documentation for Memory Management  (https://pytorch.org/docs/stable/notes/cuda.html#environment-variables)"
     ]
    }
   ],
   "source": [
    "config.model(**inputs)"
   ]
  },
  {
   "cell_type": "code",
   "execution_count": null,
   "metadata": {},
   "outputs": [],
   "source": []
  }
 ],
 "metadata": {
  "kernelspec": {
   "display_name": "cloudspace",
   "language": "python",
   "name": "python3"
  },
  "language_info": {
   "codemirror_mode": {
    "name": "ipython",
    "version": 3
   },
   "file_extension": ".py",
   "mimetype": "text/x-python",
   "name": "python",
   "nbconvert_exporter": "python",
   "pygments_lexer": "ipython3",
   "version": "3.10.10"
  }
 },
 "nbformat": 4,
 "nbformat_minor": 2
}
